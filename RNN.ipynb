{
  "nbformat": 4,
  "nbformat_minor": 0,
  "metadata": {
    "colab": {
      "provenance": [],
      "gpuType": "T4",
      "machine_shape": "hm",
      "mount_file_id": "1aYjjYt_TXaiyQ9W4_bqBcjkErvgqAHap",
      "authorship_tag": "ABX9TyOIPZh3PYj3qdfuZ/YgH1Id",
      "include_colab_link": true
    },
    "kernelspec": {
      "name": "python3",
      "display_name": "Python 3"
    },
    "language_info": {
      "name": "python"
    },
    "accelerator": "GPU"
  },
  "cells": [
    {
      "cell_type": "markdown",
      "metadata": {
        "id": "view-in-github",
        "colab_type": "text"
      },
      "source": [
        "<a href=\"https://colab.research.google.com/github/learnerhyk/colab/blob/main/RNN.ipynb\" target=\"_parent\"><img src=\"https://colab.research.google.com/assets/colab-badge.svg\" alt=\"Open In Colab\"/></a>"
      ]
    },
    {
      "cell_type": "code",
      "source": [
        "!cd /content\n",
        "!wget http://ai.stanford.edu/~amaas/data/sentiment/aclImdb_v1.tar.gz\n",
        "!tar -zxvf aclImdb_v1.tar.gz 2>&1 > /dev/null"
      ],
      "metadata": {
        "colab": {
          "base_uri": "https://localhost:8080/"
        },
        "id": "AWhCnXMLhkAH",
        "outputId": "5ab356ea-8a6c-4983-8dad-6b5248cfc892"
      },
      "execution_count": 1,
      "outputs": [
        {
          "output_type": "stream",
          "name": "stdout",
          "text": [
            "--2025-01-20 01:38:12--  http://ai.stanford.edu/~amaas/data/sentiment/aclImdb_v1.tar.gz\n",
            "Resolving ai.stanford.edu (ai.stanford.edu)... 171.64.68.10\n",
            "Connecting to ai.stanford.edu (ai.stanford.edu)|171.64.68.10|:80... connected.\n",
            "HTTP request sent, awaiting response... 200 OK\n",
            "Length: 84125825 (80M) [application/x-gzip]\n",
            "Saving to: ‘aclImdb_v1.tar.gz’\n",
            "\n",
            "aclImdb_v1.tar.gz   100%[===================>]  80.23M   653KB/s    in 82s     \n",
            "\n",
            "2025-01-20 01:39:35 (998 KB/s) - ‘aclImdb_v1.tar.gz’ saved [84125825/84125825]\n",
            "\n"
          ]
        }
      ]
    },
    {
      "cell_type": "code",
      "source": [
        "import torch\n",
        "import torch.nn as nn\n",
        "import torch.nn.functional as F\n",
        "\n",
        "class SimpleRNN(nn.Module):\n",
        "  def __init__(self, input_size, hidden_size, output_size, vocab_size):\n",
        "    super(SimpleRNN, self).__init__()\n",
        "    # 输入特征维度\n",
        "    self.input_size = input_size\n",
        "    # 隐藏层维度\n",
        "    self.hidden_size = hidden_size\n",
        "    # 输出维度\n",
        "    self.output_size = output_size\n",
        "\n",
        "    self.vocab_size = vocab_size\n",
        "\n",
        "    # 初始化权重矩阵，将它们作为模型的参数\n",
        "\n",
        "    # 输入到隐藏层的权重\n",
        "    self.Wxh = nn.Parameter(torch.randn(hidden_size, input_size)*0.01)\n",
        "    # 隐藏层到隐藏层的权重\n",
        "    self.Whh = nn.Parameter(torch.randn(hidden_size, hidden_size)*0.01)\n",
        "    # 隐藏层到输出层的权重\n",
        "    self.Why = nn.Parameter(torch.randn(output_size, hidden_size)*0.01)\n",
        "\n",
        "    # 初始化偏置项，也作为模型的参数\n",
        "    self.bh = nn.Parameter(torch.randn(hidden_size, 1))\n",
        "    self.by = nn.Parameter(torch.randn(output_size, 1))\n",
        "\n",
        "  def forward(self, inputs):\n",
        "    # inputs 原本是 batch_size, max_len\n",
        "    # T 后就是 max_len , batch_size\n",
        "    inputs = F.one_hot(inputs.T, self.vocab_size).type(torch.float32)\n",
        "    # one hot 后是 max_len, batch_size, vocab_size\n",
        "\n",
        "    # inputs的形状为 (max_len, batch_size, input_size)\n",
        "    # 初始化隐藏状态，全零向量\n",
        "    h = torch.zeros(inputs.shape[1], self.hidden_size, device=inputs.device)\n",
        "\n",
        "    # 存储所有时间步的输出\n",
        "    outputs = []\n",
        "\n",
        "    # 循环遍历每个时间步\n",
        "    # 这里的max_len，就相当于是时间步\n",
        "    for x in inputs:\n",
        "        # x的形状为 (batch_size, input_size)\n",
        "        # 计算隐藏状态\n",
        "        h = torch.tanh(torch.matmul(x, self.Wxh.T) + torch.matmul(h, self.Whh.T) + self.bh.T)\n",
        "        # h (batch_size, hidden_size)\n",
        "        # 计算输出\n",
        "        y = torch.matmul(h, self.Why.T) + self.by.T\n",
        "        #\n",
        "        # 将输出添加到列表中\n",
        "        outputs.append(y)\n",
        "\n",
        "    # 将输出转换为张量, 形状为 (seq_len, batch_size, output_size)\n",
        "    outputs = torch.stack(outputs, dim=0).transpose(0, 1).contiguous()\n",
        "\n",
        "    return outputs, h\n",
        "\n",
        "\n"
      ],
      "metadata": {
        "id": "y0WAdgGzfmlY"
      },
      "execution_count": 2,
      "outputs": []
    },
    {
      "cell_type": "code",
      "source": [
        "import glob\n",
        "from collections import Counter\n",
        "import re\n",
        "import os\n",
        "\n",
        "def clean_text(text):\n",
        "    text = re.sub(r\"[^\\w\\s]\", \"\", text)\n",
        "    text = text.lower().strip()\n",
        "    return text\n",
        "\n",
        "def build_movie_vocab_chuncked(root_dir, min_freq=20):\n",
        "    counter = Counter()\n",
        "    all_file = glob.glob(os.path.join(root_dir,\"**/*.txt\"), recursive=True)\n",
        "    for fn in all_file:\n",
        "        with open(fn, 'r') as file:\n",
        "            text = file.read()\n",
        "            text = clean_text(text)\n",
        "            words = text.split(\" \")\n",
        "            counter.update(words)\n",
        "\n",
        "    counter = {word:freq for word,freq in counter.items() if freq>=min_freq}\n",
        "    vocab = {word: idx for idx, (word, freq) in enumerate(counter.items(), start=2)}\n",
        "    vocab[\"<PAD>\"] = 0\n",
        "    vocab[\"<UNK>\"] = 1\n",
        "    return vocab\n"
      ],
      "metadata": {
        "id": "mp7hXSpihfne"
      },
      "execution_count": 3,
      "outputs": []
    },
    {
      "cell_type": "code",
      "source": [
        "vocab = build_movie_vocab_chuncked(\"/content/aclImdb\", 200)"
      ],
      "metadata": {
        "id": "M2KGR1auh6Hh"
      },
      "execution_count": 5,
      "outputs": []
    },
    {
      "cell_type": "code",
      "source": [
        "print(len(vocab))"
      ],
      "metadata": {
        "colab": {
          "base_uri": "https://localhost:8080/"
        },
        "id": "hsTDMkNL6lJO",
        "outputId": "254387b8-9f68-4558-fb19-9fde89d16118"
      },
      "execution_count": 5,
      "outputs": [
        {
          "output_type": "stream",
          "name": "stdout",
          "text": [
            "6998\n"
          ]
        }
      ]
    },
    {
      "cell_type": "code",
      "source": [
        "# LazyLoader\n",
        "import torch\n",
        "from torch.utils.data import Dataset, DataLoader\n",
        "import os\n",
        "import glob\n",
        "\n",
        "\n",
        "class ImbdDataSet(Dataset):\n",
        "  def __init__(self, root_path, vocab, max_length=128, data_type='trian', transform=None):\n",
        "    self.data_path_list = []\n",
        "    self.label_list = []\n",
        "    self.transform = transform\n",
        "    self.vocab = vocab\n",
        "    self.max_length = max_length\n",
        "\n",
        "    self.root_path = root_path\n",
        "\n",
        "    pos_path = os.path.join(root_path, data_type, 'pos')\n",
        "    neg_path = os.path.join(root_path, data_type, 'neg')\n",
        "\n",
        "    for item in glob.glob(os.path.join(pos_path,\"*.txt\")):\n",
        "      self.label_list.append(1)\n",
        "      self.data_path_list.append(item)\n",
        "\n",
        "    for item in glob.glob(os.path.join(neg_path,\"*.txt\")):\n",
        "      self.label_list.append(0)\n",
        "      self.data_path_list.append(item)\n",
        "\n",
        "\n",
        "  def __len__(self):\n",
        "    return len(self.data_path_list)\n",
        "\n",
        "  def __getitem__(self, idx):\n",
        "    label_ = self.label_list[idx]\n",
        "    path_ = self.data_path_list[idx]\n",
        "    with open(path_,'r') as f:\n",
        "      data_ = f.read()\n",
        "\n",
        "    data_ = clean_text(data_)\n",
        "\n",
        "    words = data_.split(\" \")\n",
        "    data_ = [self.vocab.get(word, self.vocab['<UNK>']) for word in words]\n",
        "\n",
        "    # 将数据处理为定长\n",
        "    if len(data_) > self.max_length:  # 截断\n",
        "        data_ = data_[:self.max_length]\n",
        "    else:  # 填充\n",
        "        data_ = data_ + [self.vocab['<PAD>']] * (self.max_length - len(data_))\n",
        "\n",
        "    if self.transform:\n",
        "        data_ = self.transform(data_)\n",
        "\n",
        "    return torch.tensor(data_, dtype=torch.long), torch.tensor(label_, dtype=torch.long)\n",
        "\n"
      ],
      "metadata": {
        "id": "3RBxoTztjmCM"
      },
      "execution_count": 4,
      "outputs": []
    },
    {
      "cell_type": "code",
      "source": [
        "train_data = ImbdDataSet(\"/content/aclImdb\", vocab, data_type='train')\n",
        "test_data = ImbdDataSet(\"/content/aclImdb\", vocab, data_type='test')\n",
        "train_loader = DataLoader(train_data, batch_size=32, shuffle=True)\n",
        "test_loader = DataLoader(test_data, batch_size=32, shuffle=False)"
      ],
      "metadata": {
        "id": "Wktz2RQ4j3OG"
      },
      "execution_count": 6,
      "outputs": []
    },
    {
      "cell_type": "markdown",
      "source": [],
      "metadata": {
        "id": "d6qziIFC5O2i"
      }
    },
    {
      "cell_type": "code",
      "source": [
        "import torch\n",
        "from torch.utils.data import DataLoader\n",
        "from sklearn.metrics import roc_auc_score  # 计算 AUC\n",
        "\n",
        "from tqdm import tqdm  # 可选，用于显示进度条\n",
        "\n",
        "def grad_clipping(net, theta):\n",
        "    if isinstance(net, nn.Module):\n",
        "        params = [p for p in net.parameters() if p.requires_grad]\n",
        "    else:\n",
        "        params = net.params\n",
        "    norm = torch.sqrt(sum(torch.sum((p.grad ** 2)) for p in params))\n",
        "    if norm > theta:\n",
        "        for param in params:\n",
        "            param.grad[:] *= theta / norm\n",
        "\n",
        "def train_model(model, dataloader, evalloader, criterion, optimizer, device, epochs=10):\n",
        "    \"\"\"\n",
        "    训练模型的通用函数。\n",
        "\n",
        "    参数：\n",
        "    - model: 定义好的神经网络模型。\n",
        "    - dataloader: 数据加载器（训练集）。\n",
        "    - criterion: 损失函数。\n",
        "    - optimizer: 优化器。\n",
        "    - device: 训练设备（\"cuda\" 或 \"cpu\"）。\n",
        "    - epochs: 训练轮数。\n",
        "\n",
        "    返回：\n",
        "    - model: 训练后的模型。\n",
        "    - metrics: 包含训练过程中的损失和其他指标。\n",
        "    \"\"\"\n",
        "    model.to(device)  # 将模型加载到设备\n",
        "    metrics = {\"loss\": [], \"auc\": [], 'eval_loss': [], 'eval_auc': []}  # 记录每个 epoch 的损失\n",
        "\n",
        "    for epoch in range(epochs):\n",
        "        model.train()  # 设置模型为训练模式\n",
        "        epoch_loss = 0.0\n",
        "        all_labels = []  # 存储真实标签\n",
        "        all_probs = []  # 存储预测概率\n",
        "        progress_bar = tqdm(dataloader, desc=f\"Epoch {epoch+1}/{epochs}\")\n",
        "\n",
        "        idx = 0\n",
        "        for batch in progress_bar:\n",
        "            idx += 1\n",
        "            inputs, labels = batch\n",
        "            inputs, labels = inputs.to(device), labels.to(device)\n",
        "\n",
        "            # 前向传播\n",
        "            outputs, _  = model(inputs)\n",
        "            outputs = outputs[:,-1,:]\n",
        "\n",
        "            # outputs = outputs.squeeze(-1)\n",
        "            loss = criterion(outputs, labels)\n",
        "\n",
        "            # 反向传播\n",
        "            optimizer.zero_grad()\n",
        "            loss.backward()\n",
        "\n",
        "            grad_clipping(model, 1)\n",
        "\n",
        "            optimizer.step()\n",
        "\n",
        "            # 累加损失\n",
        "            epoch_loss += loss.item()\n",
        "\n",
        "            probs = torch.softmax(outputs, dim=1)[:, 1].detach().cpu().numpy()  # 假设二分类，取第二类概率\n",
        "            all_probs.extend(probs)\n",
        "            all_labels.extend(labels.cpu().numpy())\n",
        "\n",
        "\n",
        "        # 记录每个 epoch 的平均损失\n",
        "        avg_loss = epoch_loss / len(dataloader)\n",
        "        metrics[\"loss\"].append(avg_loss)\n",
        "        epoch_auc = roc_auc_score(all_labels, all_probs)\n",
        "        metrics[\"auc\"].append(epoch_auc)\n",
        "\n",
        "        model.eval()\n",
        "        eval_loss = 0.0\n",
        "        eval_labels = []  # 存储真实标签\n",
        "        eval_probs = []  # 存储预测概率\n",
        "\n",
        "        for batch_eval in evalloader:\n",
        "          inputs_eval, labels_eval = batch_eval\n",
        "          inputs_eval, labels_eval = inputs_eval.to(device), labels_eval.to(device)\n",
        "          outputs_eval, _  = model(inputs_eval)\n",
        "          outputs_eval = outputs_eval[:,-1,:]\n",
        "          loss_eval = criterion(outputs_eval, labels_eval)\n",
        "          eval_loss += loss_eval.item()\n",
        "          probs = torch.softmax(outputs_eval, dim=1)[:,1].detach().cpu().numpy()\n",
        "          eval_probs.extend(probs)\n",
        "          eval_labels.extend(labels_eval.cpu().numpy())\n",
        "        eval_loss_avg = eval_loss / len(evalloader)\n",
        "        metrics['eval_loss'].append(eval_loss_avg)\n",
        "        eval_auc = roc_auc_score(eval_labels, eval_probs)\n",
        "        metrics['eval_auc'].append(eval_auc)\n",
        "#\n",
        "        model.train()\n",
        "\n",
        "        # print(f\"Epoch [{epoch+1}/{epochs}], Loss: {avg_loss:.4f}, AUC: {epoch_auc:.4f}\")\n",
        "        print(f\"Epoch [{epoch+1}/{epochs}], Loss: {avg_loss:.4f}, AUC: {epoch_auc:.4f}, Eval Loss: {eval_loss_avg:.4f}, Eval AUC: {eval_auc:.4f}\")\n",
        "\n",
        "    return model, metrics"
      ],
      "metadata": {
        "id": "N2SQIPXBNX1o"
      },
      "execution_count": 9,
      "outputs": []
    },
    {
      "cell_type": "code",
      "source": [
        "model = SimpleRNN(len(vocab), 512, 2, len(vocab))  # 定义的网络结构\n",
        "criterion = torch.nn.CrossEntropyLoss()  # 损失函数\n",
        "optimizer = torch.optim.Adam(model.parameters(), lr=0.001)  # 优化器\n",
        "device = torch.device(\"cuda\" if torch.cuda.is_available() else \"cpu\")  # 设置设备\n",
        "print(device)"
      ],
      "metadata": {
        "id": "AVG7IieDNZoj",
        "colab": {
          "base_uri": "https://localhost:8080/"
        },
        "outputId": "7d707973-920d-4e9f-f720-5023a2b375f7"
      },
      "execution_count": null,
      "outputs": [
        {
          "output_type": "stream",
          "name": "stdout",
          "text": [
            "cuda\n"
          ]
        }
      ]
    },
    {
      "cell_type": "code",
      "source": [
        "trained_model, metrics = train_model(\n",
        "    model=model,\n",
        "    dataloader=train_loader,\n",
        "    evalloader=test_loader,\n",
        "    criterion=criterion,\n",
        "    optimizer=optimizer,\n",
        "    device=device,\n",
        "    epochs=10\n",
        ")"
      ],
      "metadata": {
        "id": "hOOPrs84N86K"
      },
      "execution_count": null,
      "outputs": []
    },
    {
      "cell_type": "code",
      "source": [
        "model = SimpleRNN(len(vocab), 128, 2, len(vocab))  # 定义的网络结构\n",
        "criterion = torch.nn.CrossEntropyLoss()  # 损失函数\n",
        "optimizer = torch.optim.Adam(model.parameters(), lr=0.001)  # 优化器\n",
        "device = torch.device(\"cuda\" if torch.cuda.is_available() else \"cpu\")  # 设置设备\n",
        "print(device)\n"
      ],
      "metadata": {
        "id": "789Mm4mF9Md3",
        "colab": {
          "base_uri": "https://localhost:8080/"
        },
        "outputId": "b177dc24-deb2-4caa-da04-01ed86dec5f7"
      },
      "execution_count": null,
      "outputs": [
        {
          "output_type": "stream",
          "name": "stdout",
          "text": [
            "cuda\n"
          ]
        }
      ]
    },
    {
      "cell_type": "code",
      "source": [
        "trained_model, metrics = train_model(\n",
        "    model=model,\n",
        "    dataloader=train_loader,\n",
        "    evalloader=test_loader,\n",
        "    criterion=criterion,\n",
        "    optimizer=optimizer,\n",
        "    device=device,\n",
        "    epochs=10\n",
        ")"
      ],
      "metadata": {
        "colab": {
          "base_uri": "https://localhost:8080/"
        },
        "id": "v846yQVmH9p9",
        "outputId": "17b74b40-6c4a-43c2-b5b8-1ca6b7b0d982"
      },
      "execution_count": null,
      "outputs": [
        {
          "output_type": "stream",
          "name": "stderr",
          "text": [
            "Epoch 1/10: 100%|██████████| 782/782 [00:59<00:00, 13.20it/s]\n"
          ]
        },
        {
          "output_type": "stream",
          "name": "stdout",
          "text": [
            "Epoch [1/10], Loss: 0.6973, AUC: 0.4990, Eval Loss: 0.6933, Eval AUC: 0.5281\n"
          ]
        },
        {
          "output_type": "stream",
          "name": "stderr",
          "text": [
            "Epoch 2/10: 100%|██████████| 782/782 [00:57<00:00, 13.50it/s]\n"
          ]
        },
        {
          "output_type": "stream",
          "name": "stdout",
          "text": [
            "Epoch [2/10], Loss: 0.6981, AUC: 0.5074, Eval Loss: 0.6980, Eval AUC: 0.5322\n"
          ]
        },
        {
          "output_type": "stream",
          "name": "stderr",
          "text": [
            "Epoch 3/10: 100%|██████████| 782/782 [00:56<00:00, 13.88it/s]\n"
          ]
        },
        {
          "output_type": "stream",
          "name": "stdout",
          "text": [
            "Epoch [3/10], Loss: 0.6955, AUC: 0.5224, Eval Loss: 0.7058, Eval AUC: 0.5342\n"
          ]
        },
        {
          "output_type": "stream",
          "name": "stderr",
          "text": [
            "Epoch 4/10: 100%|██████████| 782/782 [00:58<00:00, 13.27it/s]\n"
          ]
        },
        {
          "output_type": "stream",
          "name": "stdout",
          "text": [
            "Epoch [4/10], Loss: 0.6684, AUC: 0.6265, Eval Loss: 0.6759, Eval AUC: 0.7205\n"
          ]
        },
        {
          "output_type": "stream",
          "name": "stderr",
          "text": [
            "Epoch 5/10: 100%|██████████| 782/782 [00:57<00:00, 13.61it/s]\n"
          ]
        },
        {
          "output_type": "stream",
          "name": "stdout",
          "text": [
            "Epoch [5/10], Loss: 0.5994, AUC: 0.7450, Eval Loss: 0.7670, Eval AUC: 0.5884\n"
          ]
        },
        {
          "output_type": "stream",
          "name": "stderr",
          "text": [
            "Epoch 6/10: 100%|██████████| 782/782 [00:58<00:00, 13.41it/s]\n"
          ]
        },
        {
          "output_type": "stream",
          "name": "stdout",
          "text": [
            "Epoch [6/10], Loss: 0.5680, AUC: 0.7804, Eval Loss: 0.5446, Eval AUC: 0.7956\n"
          ]
        },
        {
          "output_type": "stream",
          "name": "stderr",
          "text": [
            "Epoch 7/10: 100%|██████████| 782/782 [00:57<00:00, 13.66it/s]\n"
          ]
        },
        {
          "output_type": "stream",
          "name": "stdout",
          "text": [
            "Epoch [7/10], Loss: 0.4980, AUC: 0.8385, Eval Loss: 0.5946, Eval AUC: 0.7714\n"
          ]
        },
        {
          "output_type": "stream",
          "name": "stderr",
          "text": [
            "Epoch 8/10: 100%|██████████| 782/782 [00:56<00:00, 13.92it/s]\n"
          ]
        },
        {
          "output_type": "stream",
          "name": "stdout",
          "text": [
            "Epoch [8/10], Loss: 0.4579, AUC: 0.8660, Eval Loss: 0.6365, Eval AUC: 0.7205\n"
          ]
        },
        {
          "output_type": "stream",
          "name": "stderr",
          "text": [
            "Epoch 9/10: 100%|██████████| 782/782 [00:59<00:00, 13.18it/s]\n"
          ]
        },
        {
          "output_type": "stream",
          "name": "stdout",
          "text": [
            "Epoch [9/10], Loss: 0.4284, AUC: 0.8842, Eval Loss: 0.6374, Eval AUC: 0.7328\n"
          ]
        },
        {
          "output_type": "stream",
          "name": "stderr",
          "text": [
            "Epoch 10/10: 100%|██████████| 782/782 [00:57<00:00, 13.53it/s]\n"
          ]
        },
        {
          "output_type": "stream",
          "name": "stdout",
          "text": [
            "Epoch [10/10], Loss: 0.3987, AUC: 0.9007, Eval Loss: 0.6277, Eval AUC: 0.7716\n"
          ]
        }
      ]
    },
    {
      "cell_type": "code",
      "source": [
        "\n",
        "import torch\n",
        "import torch.nn as nn\n",
        "import torch.nn.functional as F\n",
        "\n",
        "class embedRNN(nn.Module):\n",
        "  def __init__(self, input_size, hidden_size, output_size, embedding_size=128):\n",
        "    super(embedRNN, self).__init__()\n",
        "    # 输入特征维度\n",
        "    self.input_size = input_size\n",
        "    # 隐藏层维度\n",
        "    self.hidden_size = hidden_size\n",
        "    # 输出维度\n",
        "    self.output_size = output_size\n",
        "\n",
        "\n",
        "    # 初始化权重矩阵，将它们作为模型的参数\n",
        "    self.embed = nn.Embedding(input_size, embedding_size)\n",
        "\n",
        "    # 输入到隐藏层的权重\n",
        "    self.Wxh = nn.Parameter(torch.randn(hidden_size, embedding_size)*0.01)\n",
        "    # 隐藏层到隐藏层的权重\n",
        "    self.Whh = nn.Parameter(torch.randn(hidden_size, hidden_size)*0.01)\n",
        "    # 隐藏层到输出层的权重\n",
        "    self.Why = nn.Parameter(torch.randn(output_size, hidden_size)*0.01)\n",
        "\n",
        "    # 初始化偏置项，也作为模型的参数\n",
        "    self.bh = nn.Parameter(torch.randn(hidden_size, 1))\n",
        "    self.by = nn.Parameter(torch.randn(output_size, 1))\n",
        "\n",
        "  def forward(self, inputs):\n",
        "    # inputs 原本是 batch_size, max_len\n",
        "    # T 后就是 max_len , batch_size\n",
        "    inputs = self.embed(inputs.T)\n",
        "    # max_len, batch_size, embdding_size\n",
        "\n",
        "\n",
        "    # inputs的形状为 (max_len, batch_size, input_size)\n",
        "    # 初始化隐藏状态，全零向量\n",
        "    h = torch.zeros(inputs.shape[1], self.hidden_size, device=inputs.device)\n",
        "\n",
        "    # 存储所有时间步的输出\n",
        "    outputs = []\n",
        "\n",
        "    # 循环遍历每个时间步\n",
        "    # 这里的max_len，就相当于是时间步\n",
        "    for x in inputs:\n",
        "        # x的形状为 (batch_size, input_size)\n",
        "        # 计算隐藏状态\n",
        "        h = torch.tanh(torch.matmul(x, self.Wxh.T) + torch.matmul(h, self.Whh.T) + self.bh.T)\n",
        "        # h (batch_size, hidden_size)\n",
        "        # 计算输出\n",
        "        y = torch.matmul(h, self.Why.T) + self.by.T\n",
        "        #\n",
        "        # 将输出添加到列表中\n",
        "        outputs.append(y)\n",
        "\n",
        "    # 将输出转换为张量, 形状为 (seq_len, batch_size, output_size)\n",
        "    outputs = torch.stack(outputs, dim=0).transpose(0, 1).contiguous()\n",
        "\n",
        "    return outputs, h\n",
        "\n"
      ],
      "metadata": {
        "id": "iBOJuBIfH_9C"
      },
      "execution_count": null,
      "outputs": []
    },
    {
      "cell_type": "code",
      "source": [
        "model = embedRNN(len(vocab), 128, 2,)  # 定义的网络结构\n",
        "criterion = torch.nn.CrossEntropyLoss()  # 损失函数\n",
        "optimizer = torch.optim.Adam(model.parameters(), lr=0.001)  # 优化器\n",
        "device = torch.device(\"cuda\" if torch.cuda.is_available() else \"cpu\")  # 设置设备\n",
        "print(device)"
      ],
      "metadata": {
        "id": "guZioSJwiLIq",
        "colab": {
          "base_uri": "https://localhost:8080/"
        },
        "outputId": "6646afe9-25bc-492c-e6c3-59eda26fee4f"
      },
      "execution_count": null,
      "outputs": [
        {
          "output_type": "stream",
          "name": "stdout",
          "text": [
            "cuda\n"
          ]
        }
      ]
    },
    {
      "cell_type": "code",
      "source": [
        "import torch_xla\n",
        "import torch_xla.core.xla_model as xm\n",
        "\n",
        "device = xm.xla_device()\n",
        "\n",
        "print(device)"
      ],
      "metadata": {
        "colab": {
          "base_uri": "https://localhost:8080/"
        },
        "id": "_E54H9AlkdBt",
        "outputId": "3dd2a0d4-8b95-4eb5-945f-74c2ee9c7219"
      },
      "execution_count": null,
      "outputs": [
        {
          "output_type": "stream",
          "name": "stdout",
          "text": [
            "xla:0\n"
          ]
        }
      ]
    },
    {
      "cell_type": "code",
      "source": [
        "trained_model, metrics = train_model(\n",
        "    model=model,\n",
        "    dataloader=train_loader,\n",
        "    evalloader=test_loader,\n",
        "    criterion=criterion,\n",
        "    optimizer=optimizer,\n",
        "    device=device,\n",
        "    epochs=10\n",
        ")"
      ],
      "metadata": {
        "colab": {
          "base_uri": "https://localhost:8080/"
        },
        "id": "ykz0ay1Fjxem",
        "outputId": "b1f85136-76e7-40ff-f69f-819e2abca462"
      },
      "execution_count": null,
      "outputs": [
        {
          "output_type": "stream",
          "name": "stderr",
          "text": [
            "Epoch 1/10: 100%|██████████| 782/782 [00:48<00:00, 16.07it/s]\n"
          ]
        },
        {
          "output_type": "stream",
          "name": "stdout",
          "text": [
            "Epoch [1/10], Loss: 0.6974, AUC: 0.5031, Eval Loss: 0.6953, Eval AUC: 0.5129\n"
          ]
        },
        {
          "output_type": "stream",
          "name": "stderr",
          "text": [
            "Epoch 2/10: 100%|██████████| 782/782 [00:47<00:00, 16.58it/s]\n"
          ]
        },
        {
          "output_type": "stream",
          "name": "stdout",
          "text": [
            "Epoch [2/10], Loss: 0.6934, AUC: 0.5308, Eval Loss: 0.6929, Eval AUC: 0.5333\n"
          ]
        },
        {
          "output_type": "stream",
          "name": "stderr",
          "text": [
            "Epoch 3/10: 100%|██████████| 782/782 [00:47<00:00, 16.51it/s]\n"
          ]
        },
        {
          "output_type": "stream",
          "name": "stdout",
          "text": [
            "Epoch [3/10], Loss: 0.6781, AUC: 0.5996, Eval Loss: 0.6771, Eval AUC: 0.6112\n"
          ]
        },
        {
          "output_type": "stream",
          "name": "stderr",
          "text": [
            "Epoch 4/10: 100%|██████████| 782/782 [00:47<00:00, 16.54it/s]\n"
          ]
        },
        {
          "output_type": "stream",
          "name": "stdout",
          "text": [
            "Epoch [4/10], Loss: 0.6463, AUC: 0.6733, Eval Loss: 0.6540, Eval AUC: 0.6707\n"
          ]
        },
        {
          "output_type": "stream",
          "name": "stderr",
          "text": [
            "Epoch 5/10: 100%|██████████| 782/782 [00:47<00:00, 16.43it/s]\n"
          ]
        },
        {
          "output_type": "stream",
          "name": "stdout",
          "text": [
            "Epoch [5/10], Loss: 0.6215, AUC: 0.7131, Eval Loss: 0.6217, Eval AUC: 0.7086\n"
          ]
        },
        {
          "output_type": "stream",
          "name": "stderr",
          "text": [
            "Epoch 6/10: 100%|██████████| 782/782 [00:47<00:00, 16.46it/s]\n"
          ]
        },
        {
          "output_type": "stream",
          "name": "stdout",
          "text": [
            "Epoch [6/10], Loss: 0.5903, AUC: 0.7524, Eval Loss: 0.6538, Eval AUC: 0.7144\n"
          ]
        },
        {
          "output_type": "stream",
          "name": "stderr",
          "text": [
            "Epoch 7/10: 100%|██████████| 782/782 [00:47<00:00, 16.37it/s]\n"
          ]
        },
        {
          "output_type": "stream",
          "name": "stdout",
          "text": [
            "Epoch [7/10], Loss: 0.5630, AUC: 0.7821, Eval Loss: 0.5990, Eval AUC: 0.7419\n"
          ]
        },
        {
          "output_type": "stream",
          "name": "stderr",
          "text": [
            "Epoch 8/10: 100%|██████████| 782/782 [00:47<00:00, 16.57it/s]\n"
          ]
        },
        {
          "output_type": "stream",
          "name": "stdout",
          "text": [
            "Epoch [8/10], Loss: 0.5395, AUC: 0.8035, Eval Loss: 0.6346, Eval AUC: 0.7151\n"
          ]
        },
        {
          "output_type": "stream",
          "name": "stderr",
          "text": [
            "Epoch 9/10: 100%|██████████| 782/782 [00:47<00:00, 16.34it/s]\n"
          ]
        },
        {
          "output_type": "stream",
          "name": "stdout",
          "text": [
            "Epoch [9/10], Loss: 0.5197, AUC: 0.8203, Eval Loss: 0.6064, Eval AUC: 0.7573\n"
          ]
        },
        {
          "output_type": "stream",
          "name": "stderr",
          "text": [
            "Epoch 10/10: 100%|██████████| 782/782 [00:47<00:00, 16.43it/s]\n"
          ]
        },
        {
          "output_type": "stream",
          "name": "stdout",
          "text": [
            "Epoch [10/10], Loss: 0.5017, AUC: 0.8350, Eval Loss: 0.6478, Eval AUC: 0.7482\n"
          ]
        }
      ]
    },
    {
      "cell_type": "code",
      "source": [
        "vocab = build_movie_vocab_chuncked(\"/content/aclImdb\", 512)\n",
        "print(f\"vocab size: {len(vocab)}\")\n",
        "train_data = ImbdDataSet(\"/content/aclImdb\", vocab, max_length=128, data_type='train')\n",
        "test_data = ImbdDataSet(\"/content/aclImdb\", vocab, max_length=128, data_type='test')\n",
        "train_loader = DataLoader(train_data, batch_size=64, shuffle=True)\n",
        "test_loader = DataLoader(test_data, batch_size=64, shuffle=False)"
      ],
      "metadata": {
        "colab": {
          "base_uri": "https://localhost:8080/"
        },
        "id": "4K1YyCSIj-0F",
        "outputId": "c1e286f0-b6da-43f6-fb9c-2e3137016cd2"
      },
      "execution_count": 7,
      "outputs": [
        {
          "output_type": "stream",
          "name": "stdout",
          "text": [
            "vocab size: 3396\n"
          ]
        }
      ]
    },
    {
      "cell_type": "code",
      "source": [
        "model = embedRNN(len(vocab), 64, 2,)  # 定义的网络结构\n",
        "criterion = torch.nn.CrossEntropyLoss()  # 损失函数\n",
        "optimizer = torch.optim.Adam(model.parameters(), lr=0.001)  # 优化器\n",
        "device = torch.device(\"cuda\" if torch.cuda.is_available() else \"cpu\")  # 设置设备\n",
        "print(device)"
      ],
      "metadata": {
        "colab": {
          "base_uri": "https://localhost:8080/"
        },
        "id": "qSaeZBAsovga",
        "outputId": "3347cd94-bd0d-48df-b00c-6e605918d8be"
      },
      "execution_count": null,
      "outputs": [
        {
          "output_type": "stream",
          "name": "stdout",
          "text": [
            "cuda\n"
          ]
        }
      ]
    },
    {
      "cell_type": "code",
      "source": [
        "# 当词表太大时，embdding层无法很好学习，因为数据量比较小的同时，词表又特别大\n",
        "# 1. 降低词表大小\n",
        "# 2. 使用预训练的embedding\n",
        "\n",
        "trained_model, metrics = train_model(\n",
        "    model=model,\n",
        "    dataloader=train_loader,\n",
        "    evalloader=test_loader,\n",
        "    criterion=criterion,\n",
        "    optimizer=optimizer,\n",
        "    device=device,\n",
        "    epochs=10\n",
        ")"
      ],
      "metadata": {
        "id": "xDHZlW_kps2m"
      },
      "execution_count": null,
      "outputs": []
    },
    {
      "cell_type": "code",
      "source": [
        "import torch\n",
        "import torch.nn as nn\n",
        "import torch.nn.functional as F\n",
        "\n",
        "class SimpleRNNOptimized(nn.Module):\n",
        "    def __init__(self, vocab_size, embed_dim, hidden_size, output_size,\n",
        "                 dropout_prob=0.2):\n",
        "        \"\"\"\n",
        "        - vocab_size: 词表大小\n",
        "        - embed_dim: embedding 后的维度\n",
        "        - hidden_size: RNN 隐藏层维度\n",
        "        - output_size: 最终分类维度（比如 2 for 二分类）\n",
        "        - dropout_prob: 在隐藏层使用 dropout 的比例\n",
        "        \"\"\"\n",
        "        super(SimpleRNNOptimized, self).__init__()\n",
        "\n",
        "        # 1. Embedding 层：自定义或使用 nn.Embedding，都可以\n",
        "        #   这里为了演示方便，直接用 nn.Embedding\n",
        "        self.embedding = nn.Embedding(num_embeddings=vocab_size,\n",
        "                                      embedding_dim=embed_dim,\n",
        "                                      padding_idx=0)\n",
        "\n",
        "        self.embed_dim = embed_dim\n",
        "        self.hidden_size = hidden_size\n",
        "        self.output_size = output_size\n",
        "\n",
        "        # 2. RNN 的参数 (Wxh, Whh, bh)\n",
        "        #   由于输入是 embed_dim, 所以 input_size = embed_dim\n",
        "        self.Wxh = nn.Parameter(torch.randn(hidden_size, embed_dim))\n",
        "        self.Whh = nn.Parameter(torch.randn(hidden_size, hidden_size))\n",
        "        self.bh  = nn.Parameter(torch.zeros(hidden_size, 1))\n",
        "\n",
        "        # 3. 输出层的参数 (Why, by)\n",
        "        self.Why = nn.Parameter(torch.randn(output_size, hidden_size))\n",
        "        self.by  = nn.Parameter(torch.zeros(output_size, 1))\n",
        "g\n",
        "        # 4. Dropout 层，用于隐藏状态到下一步时做 dropout\n",
        "        #   这里是一个简易的写法，也可以在 forward 里自己实现 dropout\n",
        "        self.dropout = nn.Dropout(p=dropout_prob)\n",
        "\n",
        "        # 5. 初始化：使用 xavier 对每个权重进行初始化\n",
        "        nn.init.xavier_uniform_(self.Wxh)\n",
        "        nn.init.xavier_uniform_(self.Whh)\n",
        "        nn.init.xavier_uniform_(self.Why)\n",
        "\n",
        "    def forward(self, inputs):\n",
        "        \"\"\"\n",
        "        inputs shape: (batch_size, seq_len)\n",
        "        返回:\n",
        "          - logits: (batch_size, output_size) 只在最后时间步输出\n",
        "          - h: (batch_size, hidden_size) 最后时间步的隐藏状态\n",
        "        \"\"\"\n",
        "        device = inputs.device\n",
        "\n",
        "        # 1. embedding: (batch_size, seq_len, embed_dim)\n",
        "        embedded = self.embedding(inputs)\n",
        "\n",
        "        # 2. 初始化隐藏状态 h\n",
        "        #    (batch_size, hidden_size)\n",
        "        h = torch.zeros(inputs.size(0), self.hidden_size, device=device)\n",
        "\n",
        "        # 3. 逐时间步循环\n",
        "        #    embedded[:, t, :] --> (batch_size, embed_dim)\n",
        "        seq_len = inputs.size(1)\n",
        "        for t in range(seq_len):\n",
        "            x_t = embedded[:, t, :]  # (batch_size, embed_dim)\n",
        "            # h_t = tanh( x_t * Wxh^T + h_{t-1} * Whh^T + b_h )\n",
        "            h = torch.tanh(\n",
        "                x_t @ self.Wxh.T +\n",
        "                h @ self.Whh.T  +\n",
        "                self.bh.T\n",
        "            )\n",
        "            # dropout\n",
        "            h = self.dropout(h)\n",
        "\n",
        "        # 4. 最后时刻的 h 映射到输出 logits\n",
        "        #    logits shape: (batch_size, output_size)\n",
        "        logits = h @ self.Why.T + self.by.T\n",
        "\n",
        "        return logits, h\n"
      ],
      "metadata": {
        "id": "-GYnrpLMo7zQ"
      },
      "execution_count": null,
      "outputs": []
    },
    {
      "cell_type": "code",
      "source": [
        "print(len(vocab))"
      ],
      "metadata": {
        "colab": {
          "base_uri": "https://localhost:8080/"
        },
        "id": "Arv22E4gwO1G",
        "outputId": "9d32067b-ad66-4052-cc26-4e1c01e08110"
      },
      "execution_count": null,
      "outputs": [
        {
          "output_type": "stream",
          "name": "stdout",
          "text": [
            "3396\n"
          ]
        }
      ]
    },
    {
      "cell_type": "code",
      "source": [
        "model = SimpleRNNOptimized(len(vocab), 128, 64, 2)  # 定义的网络结构\n",
        "criterion = torch.nn.CrossEntropyLoss()  # 损失函数\n",
        "optimizer = torch.optim.Adam(model.parameters(), lr=0.001)  # 优化器\n",
        "device = torch.device(\"cuda\" if torch.cuda.is_available() else \"cpu\")  # 设置设备\n",
        "scheduler = torch.optim.lr_scheduler.StepLR(optimizer, step_size=5, gamma=0.5)\n",
        "print(device)"
      ],
      "metadata": {
        "colab": {
          "base_uri": "https://localhost:8080/"
        },
        "id": "Zg1exZ2Qupy0",
        "outputId": "f29291bf-98e6-403e-9476-cf81c1167550"
      },
      "execution_count": null,
      "outputs": [
        {
          "output_type": "stream",
          "name": "stdout",
          "text": [
            "cuda\n"
          ]
        }
      ]
    },
    {
      "cell_type": "code",
      "source": [
        "def train_model_new(model, dataloader, evalloader, criterion, optimizer, device, scheduler=None, epochs=10):\n",
        "    \"\"\"\n",
        "    训练模型的通用函数。\n",
        "\n",
        "    参数：\n",
        "    - model: 定义好的神经网络模型。\n",
        "    - dataloader: 数据加载器（训练集）。\n",
        "    - criterion: 损失函数。\n",
        "    - optimizer: 优化器。\n",
        "    - device: 训练设备（\"cuda\" 或 \"cpu\"）。\n",
        "    - epochs: 训练轮数。\n",
        "\n",
        "    返回：\n",
        "    - model: 训练后的模型。\n",
        "    - metrics: 包含训练过程中的损失和其他指标。\n",
        "    \"\"\"\n",
        "    model.to(device)  # 将模型加载到设备\n",
        "    metrics = {\"loss\": [], \"auc\": [], 'eval_loss': [], 'eval_auc': []}  # 记录每个 epoch 的损失\n",
        "\n",
        "    for epoch in range(epochs):\n",
        "        model.train()  # 设置模型为训练模式\n",
        "        if scheduler:\n",
        "          scheduler.step()\n",
        "        epoch_loss = 0.0\n",
        "        all_labels = []  # 存储真实标签\n",
        "        all_probs = []  # 存储预测概率\n",
        "        progress_bar = tqdm(dataloader, desc=f\"Epoch {epoch+1}/{epochs}\")\n",
        "\n",
        "        idx = 0\n",
        "        for batch in progress_bar:\n",
        "            inputs, labels = batch\n",
        "            inputs, labels = inputs.to(device), labels.to(device)\n",
        "\n",
        "            if idx == 0:\n",
        "              print(inputs.device)\n",
        "              idx += 1\n",
        "\n",
        "            # 前向传播\n",
        "            outputs, _  = model(inputs)\n",
        "\n",
        "            # outputs = outputs.squeeze(-1)\n",
        "            loss = criterion(outputs, labels)\n",
        "\n",
        "            # 反向传播\n",
        "            optimizer.zero_grad()\n",
        "            loss.backward()\n",
        "\n",
        "            grad_clipping(model, 1)\n",
        "\n",
        "            optimizer.step()\n",
        "\n",
        "            # 累加损失\n",
        "            epoch_loss += loss.item()\n",
        "\n",
        "            probs = torch.softmax(outputs, dim=1)[:, 1].detach().cpu().numpy()  # 假设二分类，取第二类概率\n",
        "            all_probs.extend(probs)\n",
        "            all_labels.extend(labels.cpu().numpy())\n",
        "\n",
        "\n",
        "        # 记录每个 epoch 的平均损失\n",
        "        avg_loss = epoch_loss / len(dataloader)\n",
        "        metrics[\"loss\"].append(avg_loss)\n",
        "        epoch_auc = roc_auc_score(all_labels, all_probs)\n",
        "        metrics[\"auc\"].append(epoch_auc)\n",
        "\n",
        "        model.eval()\n",
        "        eval_loss = 0.0\n",
        "        eval_labels = []  # 存储真实标签\n",
        "        eval_probs = []  # 存储预测概率\n",
        "\n",
        "        for batch_eval in evalloader:\n",
        "          inputs_eval, labels_eval = batch_eval\n",
        "          inputs_eval, labels_eval = inputs_eval.to(device), labels_eval.to(device)\n",
        "          outputs_eval, _  = model(inputs_eval)\n",
        "          loss_eval = criterion(outputs_eval, labels_eval)\n",
        "          eval_loss += loss_eval.item()\n",
        "          probs = torch.softmax(outputs_eval, dim=1)[:,1].detach().cpu().numpy()\n",
        "          eval_probs.extend(probs)\n",
        "          eval_labels.extend(labels_eval.cpu().numpy())\n",
        "        eval_loss_avg = eval_loss / len(evalloader)\n",
        "        metrics['eval_loss'].append(eval_loss_avg)\n",
        "        eval_auc = roc_auc_score(eval_labels, eval_probs)\n",
        "        metrics['eval_auc'].append(eval_auc)\n",
        "#\n",
        "\n",
        "        # print(f\"Epoch [{epoch+1}/{epochs}], Loss: {avg_loss:.4f}, AUC: {epoch_auc:.4f}\")\n",
        "        print(f\"Epoch [{epoch+1}/{epochs}], Loss: {avg_loss:.4f}, AUC: {epoch_auc:.4f}, Eval Loss: {eval_loss_avg:.4f}, Eval AUC: {eval_auc:.4f}\")\n",
        "\n",
        "    return model, metrics"
      ],
      "metadata": {
        "id": "LP46XUEIu4mf"
      },
      "execution_count": 21,
      "outputs": []
    },
    {
      "cell_type": "code",
      "source": [
        "\n",
        "trained_model, metrics = train_model_new(\n",
        "    model=model,\n",
        "    dataloader=train_loader,\n",
        "    evalloader=test_loader,\n",
        "    criterion=criterion,\n",
        "    optimizer=optimizer,\n",
        "    device=device,\n",
        "    epochs=30\n",
        ")"
      ],
      "metadata": {
        "colab": {
          "base_uri": "https://localhost:8080/"
        },
        "id": "jXr_nrWBuw0P",
        "outputId": "dcd357ef-716c-4d8d-b5db-7c2b3ae2f99a"
      },
      "execution_count": null,
      "outputs": [
        {
          "output_type": "stream",
          "name": "stderr",
          "text": [
            "Epoch 1/30: 100%|██████████| 391/391 [00:28<00:00, 13.69it/s]\n"
          ]
        },
        {
          "output_type": "stream",
          "name": "stdout",
          "text": [
            "Epoch [1/30], Loss: 0.7414, AUC: 0.5123, Eval Loss: 0.6981, Eval AUC: 0.5106\n"
          ]
        },
        {
          "output_type": "stream",
          "name": "stderr",
          "text": [
            "Epoch 2/30: 100%|██████████| 391/391 [00:28<00:00, 13.68it/s]\n"
          ]
        },
        {
          "output_type": "stream",
          "name": "stdout",
          "text": [
            "Epoch [2/30], Loss: 0.6939, AUC: 0.5397, Eval Loss: 0.6954, Eval AUC: 0.5182\n"
          ]
        },
        {
          "output_type": "stream",
          "name": "stderr",
          "text": [
            "Epoch 3/30: 100%|██████████| 391/391 [00:28<00:00, 13.73it/s]\n"
          ]
        },
        {
          "output_type": "stream",
          "name": "stdout",
          "text": [
            "Epoch [3/30], Loss: 0.6858, AUC: 0.5677, Eval Loss: 0.6950, Eval AUC: 0.5290\n"
          ]
        },
        {
          "output_type": "stream",
          "name": "stderr",
          "text": [
            "Epoch 4/30: 100%|██████████| 391/391 [00:28<00:00, 13.76it/s]\n"
          ]
        },
        {
          "output_type": "stream",
          "name": "stdout",
          "text": [
            "Epoch [4/30], Loss: 0.6796, AUC: 0.5946, Eval Loss: 0.6914, Eval AUC: 0.5581\n"
          ]
        },
        {
          "output_type": "stream",
          "name": "stderr",
          "text": [
            "Epoch 5/30: 100%|██████████| 391/391 [00:28<00:00, 13.78it/s]\n"
          ]
        },
        {
          "output_type": "stream",
          "name": "stdout",
          "text": [
            "Epoch [5/30], Loss: 0.6686, AUC: 0.6274, Eval Loss: 0.6819, Eval AUC: 0.5904\n"
          ]
        },
        {
          "output_type": "stream",
          "name": "stderr",
          "text": [
            "Epoch 6/30: 100%|██████████| 391/391 [00:28<00:00, 13.76it/s]\n"
          ]
        },
        {
          "output_type": "stream",
          "name": "stdout",
          "text": [
            "Epoch [6/30], Loss: 0.6501, AUC: 0.6671, Eval Loss: 0.6713, Eval AUC: 0.6147\n"
          ]
        },
        {
          "output_type": "stream",
          "name": "stderr",
          "text": [
            "Epoch 7/30: 100%|██████████| 391/391 [00:28<00:00, 13.56it/s]\n"
          ]
        },
        {
          "output_type": "stream",
          "name": "stdout",
          "text": [
            "Epoch [7/30], Loss: 0.6313, AUC: 0.6987, Eval Loss: 0.6357, Eval AUC: 0.6907\n"
          ]
        },
        {
          "output_type": "stream",
          "name": "stderr",
          "text": [
            "Epoch 8/30: 100%|██████████| 391/391 [00:28<00:00, 13.68it/s]\n"
          ]
        },
        {
          "output_type": "stream",
          "name": "stdout",
          "text": [
            "Epoch [8/30], Loss: 0.6137, AUC: 0.7218, Eval Loss: 0.6391, Eval AUC: 0.6838\n"
          ]
        },
        {
          "output_type": "stream",
          "name": "stderr",
          "text": [
            "Epoch 9/30: 100%|██████████| 391/391 [00:28<00:00, 13.66it/s]\n"
          ]
        },
        {
          "output_type": "stream",
          "name": "stdout",
          "text": [
            "Epoch [9/30], Loss: 0.6057, AUC: 0.7332, Eval Loss: 0.6417, Eval AUC: 0.6814\n"
          ]
        },
        {
          "output_type": "stream",
          "name": "stderr",
          "text": [
            "Epoch 10/30: 100%|██████████| 391/391 [00:28<00:00, 13.82it/s]\n"
          ]
        },
        {
          "output_type": "stream",
          "name": "stdout",
          "text": [
            "Epoch [10/30], Loss: 0.5875, AUC: 0.7542, Eval Loss: 0.6275, Eval AUC: 0.7143\n"
          ]
        },
        {
          "output_type": "stream",
          "name": "stderr",
          "text": [
            "Epoch 11/30: 100%|██████████| 391/391 [00:28<00:00, 13.81it/s]\n"
          ]
        },
        {
          "output_type": "stream",
          "name": "stdout",
          "text": [
            "Epoch [11/30], Loss: 0.5766, AUC: 0.7656, Eval Loss: 0.6157, Eval AUC: 0.7321\n"
          ]
        },
        {
          "output_type": "stream",
          "name": "stderr",
          "text": [
            "Epoch 12/30: 100%|██████████| 391/391 [00:28<00:00, 13.62it/s]\n"
          ]
        },
        {
          "output_type": "stream",
          "name": "stdout",
          "text": [
            "Epoch [12/30], Loss: 0.5653, AUC: 0.7777, Eval Loss: 0.6161, Eval AUC: 0.7199\n"
          ]
        },
        {
          "output_type": "stream",
          "name": "stderr",
          "text": [
            "Epoch 13/30: 100%|██████████| 391/391 [00:28<00:00, 13.63it/s]\n"
          ]
        },
        {
          "output_type": "stream",
          "name": "stdout",
          "text": [
            "Epoch [13/30], Loss: 0.5513, AUC: 0.7908, Eval Loss: 0.6128, Eval AUC: 0.7359\n"
          ]
        },
        {
          "output_type": "stream",
          "name": "stderr",
          "text": [
            "Epoch 14/30: 100%|██████████| 391/391 [00:28<00:00, 13.57it/s]\n"
          ]
        },
        {
          "output_type": "stream",
          "name": "stdout",
          "text": [
            "Epoch [14/30], Loss: 0.5443, AUC: 0.7981, Eval Loss: 0.6217, Eval AUC: 0.7292\n"
          ]
        },
        {
          "output_type": "stream",
          "name": "stderr",
          "text": [
            "Epoch 15/30: 100%|██████████| 391/391 [00:28<00:00, 13.68it/s]\n"
          ]
        },
        {
          "output_type": "stream",
          "name": "stdout",
          "text": [
            "Epoch [15/30], Loss: 0.5391, AUC: 0.8025, Eval Loss: 0.6167, Eval AUC: 0.7335\n"
          ]
        },
        {
          "output_type": "stream",
          "name": "stderr",
          "text": [
            "Epoch 16/30: 100%|██████████| 391/391 [00:28<00:00, 13.68it/s]\n"
          ]
        },
        {
          "output_type": "stream",
          "name": "stdout",
          "text": [
            "Epoch [16/30], Loss: 0.5276, AUC: 0.8125, Eval Loss: 0.6149, Eval AUC: 0.7352\n"
          ]
        },
        {
          "output_type": "stream",
          "name": "stderr",
          "text": [
            "Epoch 17/30: 100%|██████████| 391/391 [00:28<00:00, 13.74it/s]\n"
          ]
        },
        {
          "output_type": "stream",
          "name": "stdout",
          "text": [
            "Epoch [17/30], Loss: 0.5228, AUC: 0.8161, Eval Loss: 0.6149, Eval AUC: 0.7396\n"
          ]
        },
        {
          "output_type": "stream",
          "name": "stderr",
          "text": [
            "Epoch 18/30: 100%|██████████| 391/391 [00:28<00:00, 13.74it/s]\n"
          ]
        },
        {
          "output_type": "stream",
          "name": "stdout",
          "text": [
            "Epoch [18/30], Loss: 0.5092, AUC: 0.8272, Eval Loss: 0.6095, Eval AUC: 0.7438\n"
          ]
        },
        {
          "output_type": "stream",
          "name": "stderr",
          "text": [
            "Epoch 19/30: 100%|██████████| 391/391 [00:28<00:00, 13.65it/s]\n"
          ]
        },
        {
          "output_type": "stream",
          "name": "stdout",
          "text": [
            "Epoch [19/30], Loss: 0.5026, AUC: 0.8336, Eval Loss: 0.6112, Eval AUC: 0.7479\n"
          ]
        },
        {
          "output_type": "stream",
          "name": "stderr",
          "text": [
            "Epoch 20/30: 100%|██████████| 391/391 [00:29<00:00, 13.48it/s]\n"
          ]
        },
        {
          "output_type": "stream",
          "name": "stdout",
          "text": [
            "Epoch [20/30], Loss: 0.4994, AUC: 0.8350, Eval Loss: 0.6213, Eval AUC: 0.7397\n"
          ]
        },
        {
          "output_type": "stream",
          "name": "stderr",
          "text": [
            "Epoch 21/30: 100%|██████████| 391/391 [00:28<00:00, 13.62it/s]\n"
          ]
        },
        {
          "output_type": "stream",
          "name": "stdout",
          "text": [
            "Epoch [21/30], Loss: 0.4912, AUC: 0.8407, Eval Loss: 0.6160, Eval AUC: 0.7544\n"
          ]
        },
        {
          "output_type": "stream",
          "name": "stderr",
          "text": [
            "Epoch 22/30: 100%|██████████| 391/391 [00:28<00:00, 13.77it/s]\n"
          ]
        },
        {
          "output_type": "stream",
          "name": "stdout",
          "text": [
            "Epoch [22/30], Loss: 0.4858, AUC: 0.8443, Eval Loss: 0.6207, Eval AUC: 0.7499\n"
          ]
        },
        {
          "output_type": "stream",
          "name": "stderr",
          "text": [
            "Epoch 23/30: 100%|██████████| 391/391 [00:28<00:00, 13.85it/s]\n"
          ]
        },
        {
          "output_type": "stream",
          "name": "stdout",
          "text": [
            "Epoch [23/30], Loss: 0.4840, AUC: 0.8464, Eval Loss: 0.6202, Eval AUC: 0.7485\n"
          ]
        },
        {
          "output_type": "stream",
          "name": "stderr",
          "text": [
            "Epoch 24/30: 100%|██████████| 391/391 [00:28<00:00, 13.69it/s]\n"
          ]
        },
        {
          "output_type": "stream",
          "name": "stdout",
          "text": [
            "Epoch [24/30], Loss: 0.4742, AUC: 0.8528, Eval Loss: 0.6076, Eval AUC: 0.7590\n"
          ]
        },
        {
          "output_type": "stream",
          "name": "stderr",
          "text": [
            "Epoch 25/30: 100%|██████████| 391/391 [00:28<00:00, 13.63it/s]\n"
          ]
        },
        {
          "output_type": "stream",
          "name": "stdout",
          "text": [
            "Epoch [25/30], Loss: 0.4717, AUC: 0.8549, Eval Loss: 0.6079, Eval AUC: 0.7623\n"
          ]
        },
        {
          "output_type": "stream",
          "name": "stderr",
          "text": [
            "Epoch 26/30: 100%|██████████| 391/391 [00:28<00:00, 13.54it/s]\n"
          ]
        },
        {
          "output_type": "stream",
          "name": "stdout",
          "text": [
            "Epoch [26/30], Loss: 0.4622, AUC: 0.8608, Eval Loss: 0.6197, Eval AUC: 0.7533\n"
          ]
        },
        {
          "output_type": "stream",
          "name": "stderr",
          "text": [
            "Epoch 27/30: 100%|██████████| 391/391 [00:28<00:00, 13.76it/s]\n"
          ]
        },
        {
          "output_type": "stream",
          "name": "stdout",
          "text": [
            "Epoch [27/30], Loss: 0.4591, AUC: 0.8638, Eval Loss: 0.6317, Eval AUC: 0.7647\n"
          ]
        },
        {
          "output_type": "stream",
          "name": "stderr",
          "text": [
            "Epoch 28/30: 100%|██████████| 391/391 [00:28<00:00, 13.69it/s]\n"
          ]
        },
        {
          "output_type": "stream",
          "name": "stdout",
          "text": [
            "Epoch [28/30], Loss: 0.4509, AUC: 0.8689, Eval Loss: 0.6328, Eval AUC: 0.7622\n"
          ]
        },
        {
          "output_type": "stream",
          "name": "stderr",
          "text": [
            "Epoch 29/30: 100%|██████████| 391/391 [00:28<00:00, 13.55it/s]\n"
          ]
        },
        {
          "output_type": "stream",
          "name": "stdout",
          "text": [
            "Epoch [29/30], Loss: 0.4539, AUC: 0.8671, Eval Loss: 0.6304, Eval AUC: 0.7496\n"
          ]
        },
        {
          "output_type": "stream",
          "name": "stderr",
          "text": [
            "Epoch 30/30: 100%|██████████| 391/391 [00:28<00:00, 13.70it/s]\n"
          ]
        },
        {
          "output_type": "stream",
          "name": "stdout",
          "text": [
            "Epoch [30/30], Loss: 0.4455, AUC: 0.8721, Eval Loss: 0.6292, Eval AUC: 0.7549\n"
          ]
        }
      ]
    },
    {
      "cell_type": "code",
      "source": [
        "import torch\n",
        "import torch.nn as nn\n",
        "import torch.nn.functional as F\n",
        "\n",
        "class SimpleRNNPkg(nn.Module):\n",
        "    def __init__(self, vocab_size, embed_dim, hidden_size, output_size, batch_size,\n",
        "                 dropout_prob=0.2):\n",
        "        super(SimpleRNNPkg, self).__init__()\n",
        "\n",
        "        self.embedding = nn.Embedding(num_embeddings=vocab_size,\n",
        "                                      embedding_dim=embed_dim,\n",
        "                                      padding_idx=0)\n",
        "\n",
        "        self.rnn = nn.RNN(batch_size, hidden_size, batch_first=True, dropout=dropout_prob)\n",
        "\n",
        "\n",
        "        self.fc = nn.Linear(hidden_size, output_size)\n",
        "\n",
        "    def forward(self, inputs):\n",
        "        \"\"\"\n",
        "        inputs shape: (batch_size, seq_len)\n",
        "        返回:\n",
        "          - logits: (batch_size, output_size) 只在最后时间步输出\n",
        "          - h: (batch_size, hidden_size) 最后时间步的隐藏状态\n",
        "        \"\"\"\n",
        "        # 0. inputs: (batch_size, seq_len)\n",
        "        device = inputs.device\n",
        "\n",
        "        # 1. embedding: (batch_size, seq_len, embed_dim)\n",
        "        inputs = self.embedding(inputs)\n",
        "\n",
        "        # 2. (batch_size, seq_len, hidden_size)\n",
        "        inputs, _ = self.rnn(inputs)\n",
        "\n",
        "        # 3. (batch_size, 1, hidden_size)\n",
        "        outputs = self.fc(inputs[:,-1,:])\n",
        "\n",
        "        return outputs\n"
      ],
      "metadata": {
        "id": "yyFFKArwuz2P"
      },
      "execution_count": 37,
      "outputs": []
    },
    {
      "cell_type": "code",
      "source": [
        "def train_model_pkg(model, dataloader, evalloader, criterion, optimizer, device, scheduler=None, epochs=10):\n",
        "    \"\"\"\n",
        "    训练模型的通用函数。\n",
        "\n",
        "    参数：\n",
        "    - model: 定义好的神经网络模型。\n",
        "    - dataloader: 数据加载器（训练集）。\n",
        "    - criterion: 损失函数。\n",
        "    - optimizer: 优化器。\n",
        "    - device: 训练设备（\"cuda\" 或 \"cpu\"）。\n",
        "    - epochs: 训练轮数。\n",
        "\n",
        "    返回：\n",
        "    - model: 训练后的模型。\n",
        "    - metrics: 包含训练过程中的损失和其他指标。\n",
        "    \"\"\"\n",
        "    model.to(device)  # 将模型加载到设备\n",
        "    metrics = {\"loss\": [], \"auc\": [], 'eval_loss': [], 'eval_auc': []}  # 记录每个 epoch 的损失\n",
        "\n",
        "    for epoch in range(epochs):\n",
        "        model.train()  # 设置模型为训练模式\n",
        "        if scheduler:\n",
        "          scheduler.step()\n",
        "        epoch_loss = 0.0\n",
        "        all_labels = []  # 存储真实标签\n",
        "        all_probs = []  # 存储预测概率\n",
        "        progress_bar = tqdm(dataloader, desc=f\"Epoch {epoch+1}/{epochs}\")\n",
        "\n",
        "        idx = 0\n",
        "        for batch in progress_bar:\n",
        "            idx += 1\n",
        "            inputs, labels = batch\n",
        "            inputs, labels = inputs.to(device), labels.to(device)\n",
        "\n",
        "            # 前向传播\n",
        "            outputs  = model(inputs)\n",
        "\n",
        "            # outputs = outputs.squeeze(-1)\n",
        "            loss = criterion(outputs, labels)\n",
        "\n",
        "            # 反向传播\n",
        "            optimizer.zero_grad()\n",
        "            loss.backward()\n",
        "\n",
        "            grad_clipping(model, 1)\n",
        "\n",
        "            optimizer.step()\n",
        "\n",
        "            # 累加损失\n",
        "            epoch_loss += loss.item()\n",
        "\n",
        "            probs = torch.softmax(outputs, dim=1)[:, 1].detach().cpu().numpy()  # 假设二分类，取第二类概率\n",
        "            all_probs.extend(probs)\n",
        "            all_labels.extend(labels.cpu().numpy())\n",
        "\n",
        "\n",
        "        # 记录每个 epoch 的平均损失\n",
        "        avg_loss = epoch_loss / len(dataloader)\n",
        "        metrics[\"loss\"].append(avg_loss)\n",
        "        epoch_auc = roc_auc_score(all_labels, all_probs)\n",
        "        metrics[\"auc\"].append(epoch_auc)\n",
        "\n",
        "        model.eval()\n",
        "        eval_loss = 0.0\n",
        "        eval_labels = []  # 存储真实标签\n",
        "        eval_probs = []  # 存储预测概率\n",
        "\n",
        "        for batch_eval in evalloader:\n",
        "          inputs_eval, labels_eval = batch_eval\n",
        "          inputs_eval, labels_eval = inputs_eval.to(device), labels_eval.to(device)\n",
        "          outputs_eval  = model(inputs_eval)\n",
        "          loss_eval = criterion(outputs_eval, labels_eval)\n",
        "          eval_loss += loss_eval.item()\n",
        "          probs = torch.softmax(outputs_eval, dim=1)[:,1].detach().cpu().numpy()\n",
        "          eval_probs.extend(probs)\n",
        "          eval_labels.extend(labels_eval.cpu().numpy())\n",
        "        eval_loss_avg = eval_loss / len(evalloader)\n",
        "        metrics['eval_loss'].append(eval_loss_avg)\n",
        "        eval_auc = roc_auc_score(eval_labels, eval_probs)\n",
        "        metrics['eval_auc'].append(eval_auc)\n",
        "#\n",
        "\n",
        "        # print(f\"Epoch [{epoch+1}/{epochs}], Loss: {avg_loss:.4f}, AUC: {epoch_auc:.4f}\")\n",
        "        print(f\"Epoch [{epoch+1}/{epochs}], Loss: {avg_loss:.4f}, AUC: {epoch_auc:.4f}, Eval Loss: {eval_loss_avg:.4f}, Eval AUC: {eval_auc:.4f}\")\n",
        "\n",
        "    return model, metrics"
      ],
      "metadata": {
        "id": "5aBM-NUXfMEF"
      },
      "execution_count": 26,
      "outputs": []
    },
    {
      "cell_type": "code",
      "source": [
        "model = SimpleRNNPkg(len(vocab), 128, 64, 2, batch_size=128)  # 定义的网络结构\n",
        "criterion = torch.nn.CrossEntropyLoss()  # 损失函数\n",
        "optimizer = torch.optim.Adam(model.parameters(), lr=0.001)  # 优化器\n",
        "device = torch.device(\"cuda\" if torch.cuda.is_available() else \"cpu\")  # 设置设备\n",
        "scheduler = torch.optim.lr_scheduler.StepLR(optimizer, step_size=5, gamma=0.5)\n",
        "print(device)"
      ],
      "metadata": {
        "colab": {
          "base_uri": "https://localhost:8080/"
        },
        "id": "V009gyuafUb5",
        "outputId": "b1d339b5-0423-4572-ccb6-348fc91ae2b6"
      },
      "execution_count": 39,
      "outputs": [
        {
          "output_type": "stream",
          "name": "stdout",
          "text": [
            "cuda\n"
          ]
        }
      ]
    },
    {
      "cell_type": "code",
      "source": [
        "trained_model, metrics = train_model_pkg(\n",
        "    model=model,\n",
        "    dataloader=train_loader,\n",
        "    evalloader=test_loader,\n",
        "    criterion=criterion,\n",
        "    optimizer=optimizer,\n",
        "    device=device,\n",
        "    epochs=30\n",
        ")"
      ],
      "metadata": {
        "colab": {
          "base_uri": "https://localhost:8080/"
        },
        "id": "XT26X-BifZA-",
        "outputId": "f96467cd-5fa7-4ab6-b5e9-d2cefe909ae5"
      },
      "execution_count": 40,
      "outputs": [
        {
          "output_type": "stream",
          "name": "stderr",
          "text": [
            "Epoch 1/30: 100%|██████████| 782/782 [00:06<00:00, 121.25it/s]\n"
          ]
        },
        {
          "output_type": "stream",
          "name": "stdout",
          "text": [
            "Epoch [1/30], Loss: 0.6974, AUC: 0.5190, Eval Loss: 0.6952, Eval AUC: 0.5381\n"
          ]
        },
        {
          "output_type": "stream",
          "name": "stderr",
          "text": [
            "Epoch 2/30: 100%|██████████| 782/782 [00:06<00:00, 124.07it/s]\n"
          ]
        },
        {
          "output_type": "stream",
          "name": "stdout",
          "text": [
            "Epoch [2/30], Loss: 0.6715, AUC: 0.6220, Eval Loss: 0.6663, Eval AUC: 0.6392\n"
          ]
        },
        {
          "output_type": "stream",
          "name": "stderr",
          "text": [
            "Epoch 3/30: 100%|██████████| 782/782 [00:06<00:00, 122.31it/s]\n"
          ]
        },
        {
          "output_type": "stream",
          "name": "stdout",
          "text": [
            "Epoch [3/30], Loss: 0.6299, AUC: 0.7007, Eval Loss: 0.6549, Eval AUC: 0.6882\n"
          ]
        },
        {
          "output_type": "stream",
          "name": "stderr",
          "text": [
            "Epoch 4/30: 100%|██████████| 782/782 [00:06<00:00, 124.12it/s]\n"
          ]
        },
        {
          "output_type": "stream",
          "name": "stdout",
          "text": [
            "Epoch [4/30], Loss: 0.5947, AUC: 0.7470, Eval Loss: 0.6340, Eval AUC: 0.7064\n"
          ]
        },
        {
          "output_type": "stream",
          "name": "stderr",
          "text": [
            "Epoch 5/30: 100%|██████████| 782/782 [00:06<00:00, 124.84it/s]\n"
          ]
        },
        {
          "output_type": "stream",
          "name": "stdout",
          "text": [
            "Epoch [5/30], Loss: 0.5538, AUC: 0.7896, Eval Loss: 0.6495, Eval AUC: 0.7095\n"
          ]
        },
        {
          "output_type": "stream",
          "name": "stderr",
          "text": [
            "Epoch 6/30: 100%|██████████| 782/782 [00:06<00:00, 122.70it/s]\n"
          ]
        },
        {
          "output_type": "stream",
          "name": "stdout",
          "text": [
            "Epoch [6/30], Loss: 0.5181, AUC: 0.8204, Eval Loss: 0.6435, Eval AUC: 0.7160\n"
          ]
        },
        {
          "output_type": "stream",
          "name": "stderr",
          "text": [
            "Epoch 7/30: 100%|██████████| 782/782 [00:06<00:00, 121.92it/s]\n"
          ]
        },
        {
          "output_type": "stream",
          "name": "stdout",
          "text": [
            "Epoch [7/30], Loss: 0.4779, AUC: 0.8504, Eval Loss: 0.6919, Eval AUC: 0.6853\n"
          ]
        },
        {
          "output_type": "stream",
          "name": "stderr",
          "text": [
            "Epoch 8/30: 100%|██████████| 782/782 [00:06<00:00, 119.87it/s]\n"
          ]
        },
        {
          "output_type": "stream",
          "name": "stdout",
          "text": [
            "Epoch [8/30], Loss: 0.4426, AUC: 0.8739, Eval Loss: 0.7006, Eval AUC: 0.7168\n"
          ]
        },
        {
          "output_type": "stream",
          "name": "stderr",
          "text": [
            "Epoch 9/30: 100%|██████████| 782/782 [00:06<00:00, 119.77it/s]\n"
          ]
        },
        {
          "output_type": "stream",
          "name": "stdout",
          "text": [
            "Epoch [9/30], Loss: 0.4125, AUC: 0.8911, Eval Loss: 0.7278, Eval AUC: 0.7094\n"
          ]
        },
        {
          "output_type": "stream",
          "name": "stderr",
          "text": [
            "Epoch 10/30: 100%|██████████| 782/782 [00:06<00:00, 120.76it/s]\n"
          ]
        },
        {
          "output_type": "stream",
          "name": "stdout",
          "text": [
            "Epoch [10/30], Loss: 0.3780, AUC: 0.9097, Eval Loss: 0.7749, Eval AUC: 0.7069\n"
          ]
        },
        {
          "output_type": "stream",
          "name": "stderr",
          "text": [
            "Epoch 11/30: 100%|██████████| 782/782 [00:06<00:00, 121.48it/s]\n"
          ]
        },
        {
          "output_type": "stream",
          "name": "stdout",
          "text": [
            "Epoch [11/30], Loss: 0.3487, AUC: 0.9234, Eval Loss: 0.8614, Eval AUC: 0.6822\n"
          ]
        },
        {
          "output_type": "stream",
          "name": "stderr",
          "text": [
            "Epoch 12/30: 100%|██████████| 782/782 [00:06<00:00, 121.69it/s]\n"
          ]
        },
        {
          "output_type": "stream",
          "name": "stdout",
          "text": [
            "Epoch [12/30], Loss: 0.3235, AUC: 0.9343, Eval Loss: 0.9042, Eval AUC: 0.6749\n"
          ]
        },
        {
          "output_type": "stream",
          "name": "stderr",
          "text": [
            "Epoch 13/30: 100%|██████████| 782/782 [00:06<00:00, 120.96it/s]\n"
          ]
        },
        {
          "output_type": "stream",
          "name": "stdout",
          "text": [
            "Epoch [13/30], Loss: 0.2955, AUC: 0.9450, Eval Loss: 0.9828, Eval AUC: 0.6510\n"
          ]
        },
        {
          "output_type": "stream",
          "name": "stderr",
          "text": [
            "Epoch 14/30: 100%|██████████| 782/782 [00:06<00:00, 122.24it/s]\n"
          ]
        },
        {
          "output_type": "stream",
          "name": "stdout",
          "text": [
            "Epoch [14/30], Loss: 0.2719, AUC: 0.9536, Eval Loss: 1.0527, Eval AUC: 0.6797\n"
          ]
        },
        {
          "output_type": "stream",
          "name": "stderr",
          "text": [
            "Epoch 15/30: 100%|██████████| 782/782 [00:06<00:00, 120.29it/s]\n"
          ]
        },
        {
          "output_type": "stream",
          "name": "stdout",
          "text": [
            "Epoch [15/30], Loss: 0.2493, AUC: 0.9607, Eval Loss: 1.0861, Eval AUC: 0.6875\n"
          ]
        },
        {
          "output_type": "stream",
          "name": "stderr",
          "text": [
            "Epoch 16/30: 100%|██████████| 782/782 [00:06<00:00, 120.32it/s]\n"
          ]
        },
        {
          "output_type": "stream",
          "name": "stdout",
          "text": [
            "Epoch [16/30], Loss: 0.2318, AUC: 0.9661, Eval Loss: 1.1785, Eval AUC: 0.6730\n"
          ]
        },
        {
          "output_type": "stream",
          "name": "stderr",
          "text": [
            "Epoch 17/30: 100%|██████████| 782/782 [00:06<00:00, 120.93it/s]\n"
          ]
        },
        {
          "output_type": "stream",
          "name": "stdout",
          "text": [
            "Epoch [17/30], Loss: 0.2106, AUC: 0.9722, Eval Loss: 1.3111, Eval AUC: 0.6758\n"
          ]
        },
        {
          "output_type": "stream",
          "name": "stderr",
          "text": [
            "Epoch 18/30: 100%|██████████| 782/782 [00:06<00:00, 121.01it/s]\n"
          ]
        },
        {
          "output_type": "stream",
          "name": "stdout",
          "text": [
            "Epoch [18/30], Loss: 0.2044, AUC: 0.9735, Eval Loss: 1.3561, Eval AUC: 0.6544\n"
          ]
        },
        {
          "output_type": "stream",
          "name": "stderr",
          "text": [
            "Epoch 19/30: 100%|██████████| 782/782 [00:06<00:00, 121.17it/s]\n"
          ]
        },
        {
          "output_type": "stream",
          "name": "stdout",
          "text": [
            "Epoch [19/30], Loss: 0.1908, AUC: 0.9771, Eval Loss: 1.3863, Eval AUC: 0.6722\n"
          ]
        },
        {
          "output_type": "stream",
          "name": "stderr",
          "text": [
            "Epoch 20/30: 100%|██████████| 782/782 [00:06<00:00, 121.43it/s]\n"
          ]
        },
        {
          "output_type": "stream",
          "name": "stdout",
          "text": [
            "Epoch [20/30], Loss: 0.1760, AUC: 0.9803, Eval Loss: 1.4951, Eval AUC: 0.6727\n"
          ]
        },
        {
          "output_type": "stream",
          "name": "stderr",
          "text": [
            "Epoch 21/30: 100%|██████████| 782/782 [00:06<00:00, 121.68it/s]\n"
          ]
        },
        {
          "output_type": "stream",
          "name": "stdout",
          "text": [
            "Epoch [21/30], Loss: 0.1803, AUC: 0.9797, Eval Loss: 1.5087, Eval AUC: 0.6672\n"
          ]
        },
        {
          "output_type": "stream",
          "name": "stderr",
          "text": [
            "Epoch 22/30: 100%|██████████| 782/782 [00:06<00:00, 120.80it/s]\n"
          ]
        },
        {
          "output_type": "stream",
          "name": "stdout",
          "text": [
            "Epoch [22/30], Loss: 0.1658, AUC: 0.9825, Eval Loss: 1.5948, Eval AUC: 0.6750\n"
          ]
        },
        {
          "output_type": "stream",
          "name": "stderr",
          "text": [
            "Epoch 23/30: 100%|██████████| 782/782 [00:06<00:00, 123.72it/s]\n"
          ]
        },
        {
          "output_type": "stream",
          "name": "stdout",
          "text": [
            "Epoch [23/30], Loss: 0.1655, AUC: 0.9827, Eval Loss: 1.6535, Eval AUC: 0.6727\n"
          ]
        },
        {
          "output_type": "stream",
          "name": "stderr",
          "text": [
            "Epoch 24/30: 100%|██████████| 782/782 [00:06<00:00, 120.50it/s]\n"
          ]
        },
        {
          "output_type": "stream",
          "name": "stdout",
          "text": [
            "Epoch [24/30], Loss: 0.1748, AUC: 0.9812, Eval Loss: 1.6208, Eval AUC: 0.6662\n"
          ]
        },
        {
          "output_type": "stream",
          "name": "stderr",
          "text": [
            "Epoch 25/30: 100%|██████████| 782/782 [00:06<00:00, 121.40it/s]\n"
          ]
        },
        {
          "output_type": "stream",
          "name": "stdout",
          "text": [
            "Epoch [25/30], Loss: 0.1722, AUC: 0.9817, Eval Loss: 1.6937, Eval AUC: 0.6576\n"
          ]
        },
        {
          "output_type": "stream",
          "name": "stderr",
          "text": [
            "Epoch 26/30: 100%|██████████| 782/782 [00:06<00:00, 122.62it/s]\n"
          ]
        },
        {
          "output_type": "stream",
          "name": "stdout",
          "text": [
            "Epoch [26/30], Loss: 0.1559, AUC: 0.9848, Eval Loss: 1.7000, Eval AUC: 0.6496\n"
          ]
        },
        {
          "output_type": "stream",
          "name": "stderr",
          "text": [
            "Epoch 27/30: 100%|██████████| 782/782 [00:06<00:00, 120.07it/s]\n"
          ]
        },
        {
          "output_type": "stream",
          "name": "stdout",
          "text": [
            "Epoch [27/30], Loss: 0.1582, AUC: 0.9844, Eval Loss: 1.8101, Eval AUC: 0.6616\n"
          ]
        },
        {
          "output_type": "stream",
          "name": "stderr",
          "text": [
            "Epoch 28/30: 100%|██████████| 782/782 [00:06<00:00, 123.85it/s]\n"
          ]
        },
        {
          "output_type": "stream",
          "name": "stdout",
          "text": [
            "Epoch [28/30], Loss: 0.1587, AUC: 0.9843, Eval Loss: 1.8240, Eval AUC: 0.6717\n"
          ]
        },
        {
          "output_type": "stream",
          "name": "stderr",
          "text": [
            "Epoch 29/30: 100%|██████████| 782/782 [00:06<00:00, 120.99it/s]\n"
          ]
        },
        {
          "output_type": "stream",
          "name": "stdout",
          "text": [
            "Epoch [29/30], Loss: 0.1526, AUC: 0.9854, Eval Loss: 1.9258, Eval AUC: 0.6637\n"
          ]
        },
        {
          "output_type": "stream",
          "name": "stderr",
          "text": [
            "Epoch 30/30: 100%|██████████| 782/782 [00:06<00:00, 123.08it/s]\n"
          ]
        },
        {
          "output_type": "stream",
          "name": "stdout",
          "text": [
            "Epoch [30/30], Loss: 0.1488, AUC: 0.9860, Eval Loss: 1.9167, Eval AUC: 0.6581\n"
          ]
        }
      ]
    },
    {
      "cell_type": "code",
      "source": [
        "import torch\n",
        "import torch.nn as nn\n",
        "import torch.nn.functional as F\n",
        "\n",
        "class SimpleGRUOptimized(nn.Module):\n",
        "    def __init__(self, vocab_size, embed_dim, hidden_size, output_size,\n",
        "                 dropout_prob=0.2):\n",
        "        \"\"\"\n",
        "        - vocab_size: 词表大小\n",
        "        - embed_dim: embedding 后的维度\n",
        "        - hidden_size: RNN 隐藏层维度\n",
        "        - output_size: 最终分类维度（比如 2 for 二分类）\n",
        "        - dropout_prob: 在隐藏层使用 dropout 的比例\n",
        "        \"\"\"\n",
        "        super(SimpleGRUOptimized, self).__init__()\n",
        "\n",
        "        # 1. Embedding 层：自定义或使用 nn.Embedding，都可以\n",
        "        #   这里为了演示方便，直接用 nn.Embedding\n",
        "        self.embedding = nn.Embedding(num_embeddings=vocab_size,\n",
        "                                      embedding_dim=embed_dim,\n",
        "                                      padding_idx=0)\n",
        "\n",
        "        self.embed_dim = embed_dim\n",
        "        self.hidden_size = hidden_size\n",
        "        self.output_size = output_size\n",
        "\n",
        "        # 2. RNN 的参数 (Wxh, Whh, bh)\n",
        "        self.Wxr = nn.Parameter(torch.randn(hidden_size, embed_dim))\n",
        "        self.Whr = nn.Parameter(torch.randn(hidden_size, hidden_size))\n",
        "\n",
        "        self.Wxz = nn.Parameter(torch.randn(hidden_size, embed_dim))\n",
        "        self.Whz = nn.Parameter(torch.randn(hidden_size, hidden_size))\n",
        "\n",
        "        self.Wxh = nn.Parameter(torch.randn(hidden_size, embed_dim))\n",
        "        self.Whh = nn.Parameter(torch.randn(hidden_size, hidden_size))\n",
        "\n",
        "        self.br  = nn.Parameter(torch.zeros(hidden_size, 1))\n",
        "        self.bz  = nn.Parameter(torch.zeros(hidden_size, 1))\n",
        "        self.bh  = nn.Parameter(torch.zeros(hidden_size, 1))\n",
        "\n",
        "        # 4. Dropout 层，用于隐藏状态到下一步时做 dropout\n",
        "        #   这里是一个简易的写法，也可以在 forward 里自己实现 dropout\n",
        "        self.dropout = nn.Dropout(p=dropout_prob)\n",
        "\n",
        "        # 5. 初始化：使用 xavier 对每个权重进行初始化\n",
        "        nn.init.xavier_uniform_(self.Wxr)\n",
        "        nn.init.xavier_uniform_(self.Whr)\n",
        "        nn.init.xavier_uniform_(self.Wxz)\n",
        "        nn.init.xavier_uniform_(self.Whz)\n",
        "        nn.init.xavier_uniform_(self.Wxh)\n",
        "        nn.init.xavier_uniform_(self.Whh)\n",
        "\n",
        "\n",
        "        self.fc = nn.Linear(hidden_size, output_size)\n",
        "\n",
        "    def forward(self, inputs):\n",
        "        \"\"\"\n",
        "        inputs shape: (batch_size, seq_len)\n",
        "        返回:\n",
        "          - logits: (batch_size, output_size) 只在最后时间步输出\n",
        "          - h: (batch_size, hidden_size) 最后时间步的隐藏状态\n",
        "        \"\"\"\n",
        "        device = inputs.device\n",
        "\n",
        "        # 1. embedding: (batch_size, seq_len, embed_dim)\n",
        "        embedded = self.embedding(inputs)\n",
        "\n",
        "        # 2. 初始化隐藏状态 h\n",
        "        #    (batch_size, hidden_size)\n",
        "        h = torch.zeros(inputs.size(0), self.hidden_size, device=device)\n",
        "\n",
        "        # 3. 逐时间步循环\n",
        "        #    embedded[:, t, :] --> (batch_size, embed_dim)\n",
        "        seq_len = inputs.size(1)\n",
        "        for t in range(seq_len):\n",
        "            x_t = embedded[:, t, :]  # (batch_size, embed_dim)\n",
        "\n",
        "            r_t = torch.sigmoid(\n",
        "                x_t @ self.Wxr.T +\n",
        "                h @ self.Whr.T +\n",
        "                self.br.T\n",
        "            )\n",
        "\n",
        "            z_t = torch.sigmoid(\n",
        "                x_t @ self.Wxz.T +\n",
        "                h @ self.Whz.T +\n",
        "                self.bz.T\n",
        "            )\n",
        "\n",
        "            # r_t & z_t (batch_size, hidden_size)\n",
        "\n",
        "            h_ = torch.tanh(\n",
        "                x_t @ self.Wxh.T + # batch_size, hidden_size\n",
        "                (r_t * h) @ self.Whh.T  +\n",
        "                self.bh.T\n",
        "            )\n",
        "\n",
        "            # batch_size, hidden_size\n",
        "\n",
        "            h = z_t * h + (1 - z_t) * h_\n",
        "\n",
        "            # dropout\n",
        "            h = self.dropout(h)\n",
        "\n",
        "        # 4. 最后时刻的 h 映射到输出 logits\n",
        "        #    logits shape: (batch_size, output_size)\n",
        "        outputs = torch.sigmoid(self.fc(h))\n",
        "\n",
        "        return outputs, h"
      ],
      "metadata": {
        "id": "RWxxYBJ-fm8L"
      },
      "execution_count": 31,
      "outputs": []
    },
    {
      "cell_type": "code",
      "source": [
        "model = SimpleGRUOptimized(len(vocab), 128, 64, 2,)  # 定义的网络结构\n",
        "criterion = torch.nn.CrossEntropyLoss()  # 损失函数\n",
        "optimizer = torch.optim.Adam(model.parameters(), lr=0.001)  # 优化器\n",
        "device = torch.device(\"cuda\" if torch.cuda.is_available() else \"cpu\")  # 设置设备\n",
        "print(device)"
      ],
      "metadata": {
        "colab": {
          "base_uri": "https://localhost:8080/"
        },
        "id": "c6sQ8aZHRuhb",
        "outputId": "80e7860c-dd3f-49f3-ab9a-f5e662f6bc55"
      },
      "execution_count": 32,
      "outputs": [
        {
          "output_type": "stream",
          "name": "stdout",
          "text": [
            "cuda\n"
          ]
        }
      ]
    },
    {
      "cell_type": "code",
      "source": [
        "\n",
        "import torch\n",
        "from torch.utils.data import DataLoader\n",
        "from sklearn.metrics import roc_auc_score  # 计算 AUC\n",
        "\n",
        "from tqdm import tqdm  # 可选，用于显示进度条\n",
        "\n",
        "def grad_clipping(net, theta):\n",
        "    if isinstance(net, nn.Module):\n",
        "        params = [p for p in net.parameters() if p.requires_grad]\n",
        "    else:\n",
        "        params = net.params\n",
        "    norm = torch.sqrt(sum(torch.sum((p.grad ** 2)) for p in params))\n",
        "    if norm > theta:\n",
        "        for param in params:\n",
        "            param.grad[:] *= theta / norm"
      ],
      "metadata": {
        "id": "p9Ih0wfmT3t3"
      },
      "execution_count": 9,
      "outputs": []
    },
    {
      "cell_type": "code",
      "source": [
        "from tqdm import tqdm\n",
        "trained_model, metrics = train_model_new(\n",
        "    model=model,\n",
        "    dataloader=train_loader,\n",
        "    evalloader=test_loader,\n",
        "    criterion=criterion,\n",
        "    optimizer=optimizer,\n",
        "    device=device,\n",
        "    epochs=20\n",
        ")"
      ],
      "metadata": {
        "colab": {
          "base_uri": "https://localhost:8080/"
        },
        "id": "my8gfTouR2dq",
        "outputId": "c2afc763-c011-4dd4-c984-48117e695d67"
      },
      "execution_count": 35,
      "outputs": [
        {
          "output_type": "stream",
          "name": "stderr",
          "text": [
            "Epoch 1/20: 100%|██████████| 391/391 [01:18<00:00,  4.96it/s]\n"
          ]
        },
        {
          "output_type": "stream",
          "name": "stdout",
          "text": [
            "Epoch [1/20], Loss: 0.6891, AUC: 0.5503, Eval Loss: 0.6691, Eval AUC: 0.6274\n"
          ]
        },
        {
          "output_type": "stream",
          "name": "stderr",
          "text": [
            "Epoch 2/20: 100%|██████████| 391/391 [01:20<00:00,  4.83it/s]\n"
          ]
        },
        {
          "output_type": "stream",
          "name": "stdout",
          "text": [
            "Epoch [2/20], Loss: 0.6448, AUC: 0.6735, Eval Loss: 0.6173, Eval AUC: 0.7173\n"
          ]
        },
        {
          "output_type": "stream",
          "name": "stderr",
          "text": [
            "Epoch 3/20: 100%|██████████| 391/391 [01:17<00:00,  5.03it/s]\n"
          ]
        },
        {
          "output_type": "stream",
          "name": "stdout",
          "text": [
            "Epoch [3/20], Loss: 0.6122, AUC: 0.7211, Eval Loss: 0.5809, Eval AUC: 0.7635\n"
          ]
        },
        {
          "output_type": "stream",
          "name": "stderr",
          "text": [
            "Epoch 4/20: 100%|██████████| 391/391 [01:19<00:00,  4.90it/s]\n"
          ]
        },
        {
          "output_type": "stream",
          "name": "stdout",
          "text": [
            "Epoch [4/20], Loss: 0.5873, AUC: 0.7537, Eval Loss: 0.5723, Eval AUC: 0.7737\n"
          ]
        },
        {
          "output_type": "stream",
          "name": "stderr",
          "text": [
            "Epoch 5/20: 100%|██████████| 391/391 [01:19<00:00,  4.93it/s]\n"
          ]
        },
        {
          "output_type": "stream",
          "name": "stdout",
          "text": [
            "Epoch [5/20], Loss: 0.5664, AUC: 0.7780, Eval Loss: 0.5627, Eval AUC: 0.7844\n"
          ]
        },
        {
          "output_type": "stream",
          "name": "stderr",
          "text": [
            "Epoch 6/20: 100%|██████████| 391/391 [01:19<00:00,  4.95it/s]\n"
          ]
        },
        {
          "output_type": "stream",
          "name": "stdout",
          "text": [
            "Epoch [6/20], Loss: 0.5591, AUC: 0.7863, Eval Loss: 0.5461, Eval AUC: 0.8028\n"
          ]
        },
        {
          "output_type": "stream",
          "name": "stderr",
          "text": [
            "Epoch 7/20: 100%|██████████| 391/391 [01:18<00:00,  5.00it/s]\n"
          ]
        },
        {
          "output_type": "stream",
          "name": "stdout",
          "text": [
            "Epoch [7/20], Loss: 0.5520, AUC: 0.7889, Eval Loss: 0.5457, Eval AUC: 0.8037\n"
          ]
        },
        {
          "output_type": "stream",
          "name": "stderr",
          "text": [
            "Epoch 8/20: 100%|██████████| 391/391 [01:19<00:00,  4.91it/s]\n"
          ]
        },
        {
          "output_type": "stream",
          "name": "stdout",
          "text": [
            "Epoch [8/20], Loss: 0.5435, AUC: 0.8006, Eval Loss: 0.5682, Eval AUC: 0.7835\n"
          ]
        },
        {
          "output_type": "stream",
          "name": "stderr",
          "text": [
            "Epoch 9/20: 100%|██████████| 391/391 [01:18<00:00,  4.97it/s]\n"
          ]
        },
        {
          "output_type": "stream",
          "name": "stdout",
          "text": [
            "Epoch [9/20], Loss: 0.5380, AUC: 0.8057, Eval Loss: 0.5542, Eval AUC: 0.7945\n"
          ]
        },
        {
          "output_type": "stream",
          "name": "stderr",
          "text": [
            "Epoch 10/20: 100%|██████████| 391/391 [01:19<00:00,  4.92it/s]\n"
          ]
        },
        {
          "output_type": "stream",
          "name": "stdout",
          "text": [
            "Epoch [10/20], Loss: 0.5361, AUC: 0.8059, Eval Loss: 0.5497, Eval AUC: 0.8012\n"
          ]
        },
        {
          "output_type": "stream",
          "name": "stderr",
          "text": [
            "Epoch 11/20: 100%|██████████| 391/391 [01:18<00:00,  4.97it/s]\n"
          ]
        },
        {
          "output_type": "stream",
          "name": "stdout",
          "text": [
            "Epoch [11/20], Loss: 0.5305, AUC: 0.8131, Eval Loss: 0.5420, Eval AUC: 0.8069\n"
          ]
        },
        {
          "output_type": "stream",
          "name": "stderr",
          "text": [
            "Epoch 12/20: 100%|██████████| 391/391 [01:18<00:00,  4.98it/s]\n"
          ]
        },
        {
          "output_type": "stream",
          "name": "stdout",
          "text": [
            "Epoch [12/20], Loss: 0.5324, AUC: 0.8110, Eval Loss: 0.5290, Eval AUC: 0.8202\n"
          ]
        },
        {
          "output_type": "stream",
          "name": "stderr",
          "text": [
            "Epoch 13/20: 100%|██████████| 391/391 [01:19<00:00,  4.94it/s]\n"
          ]
        },
        {
          "output_type": "stream",
          "name": "stdout",
          "text": [
            "Epoch [13/20], Loss: 0.5210, AUC: 0.8212, Eval Loss: 0.5391, Eval AUC: 0.8104\n"
          ]
        },
        {
          "output_type": "stream",
          "name": "stderr",
          "text": [
            "Epoch 14/20: 100%|██████████| 391/391 [01:18<00:00,  4.98it/s]\n"
          ]
        },
        {
          "output_type": "stream",
          "name": "stdout",
          "text": [
            "Epoch [14/20], Loss: 0.5187, AUC: 0.8251, Eval Loss: 0.5257, Eval AUC: 0.8254\n"
          ]
        },
        {
          "output_type": "stream",
          "name": "stderr",
          "text": [
            "Epoch 15/20: 100%|██████████| 391/391 [01:18<00:00,  4.96it/s]\n"
          ]
        },
        {
          "output_type": "stream",
          "name": "stdout",
          "text": [
            "Epoch [15/20], Loss: 0.5116, AUC: 0.8306, Eval Loss: 0.5311, Eval AUC: 0.8208\n"
          ]
        },
        {
          "output_type": "stream",
          "name": "stderr",
          "text": [
            "Epoch 16/20: 100%|██████████| 391/391 [01:19<00:00,  4.94it/s]\n"
          ]
        },
        {
          "output_type": "stream",
          "name": "stdout",
          "text": [
            "Epoch [16/20], Loss: 0.5098, AUC: 0.8311, Eval Loss: 0.5301, Eval AUC: 0.8202\n"
          ]
        },
        {
          "output_type": "stream",
          "name": "stderr",
          "text": [
            "Epoch 17/20: 100%|██████████| 391/391 [01:19<00:00,  4.91it/s]\n"
          ]
        },
        {
          "output_type": "stream",
          "name": "stdout",
          "text": [
            "Epoch [17/20], Loss: 0.5100, AUC: 0.8306, Eval Loss: 0.5402, Eval AUC: 0.8118\n"
          ]
        },
        {
          "output_type": "stream",
          "name": "stderr",
          "text": [
            "Epoch 18/20: 100%|██████████| 391/391 [01:19<00:00,  4.94it/s]\n"
          ]
        },
        {
          "output_type": "stream",
          "name": "stdout",
          "text": [
            "Epoch [18/20], Loss: 0.5086, AUC: 0.8352, Eval Loss: 0.5280, Eval AUC: 0.8252\n"
          ]
        },
        {
          "output_type": "stream",
          "name": "stderr",
          "text": [
            "Epoch 19/20: 100%|██████████| 391/391 [01:18<00:00,  4.97it/s]\n"
          ]
        },
        {
          "output_type": "stream",
          "name": "stdout",
          "text": [
            "Epoch [19/20], Loss: 0.5049, AUC: 0.8359, Eval Loss: 0.5263, Eval AUC: 0.8253\n"
          ]
        },
        {
          "output_type": "stream",
          "name": "stderr",
          "text": [
            "Epoch 20/20: 100%|██████████| 391/391 [01:20<00:00,  4.88it/s]\n"
          ]
        },
        {
          "output_type": "stream",
          "name": "stdout",
          "text": [
            "Epoch [20/20], Loss: 0.5033, AUC: 0.8370, Eval Loss: 0.5364, Eval AUC: 0.8156\n"
          ]
        }
      ]
    },
    {
      "cell_type": "code",
      "source": [
        "import torch\n",
        "import torch.nn as nn\n",
        "import torch.nn.functional as F\n",
        "\n",
        "class SimpleLSTMOptimized(nn.Module):\n",
        "    def __init__(self, vocab_size, embed_dim, hidden_size, output_size,\n",
        "                 dropout_prob=0.2):\n",
        "        \"\"\"\n",
        "        - vocab_size: 词表大小\n",
        "        - embed_dim: embedding 后的维度\n",
        "        - hidden_size: RNN 隐藏层维度\n",
        "        - output_size: 最终分类维度（比如 2 for 二分类）\n",
        "        - dropout_prob: 在隐藏层使用 dropout 的比例\n",
        "        \"\"\"\n",
        "        super(SimpleLSTMOptimized, self).__init__()\n",
        "\n",
        "        # 1. Embedding 层：自定义或使用 nn.Embedding，都可以\n",
        "        #   这里为了演示方便，直接用 nn.Embedding\n",
        "        self.embedding = nn.Embedding(num_embeddings=vocab_size,\n",
        "                                      embedding_dim=embed_dim,\n",
        "                                      padding_idx=0)\n",
        "\n",
        "        self.embed_dim = embed_dim\n",
        "        self.hidden_size = hidden_size\n",
        "        self.output_size = output_size\n",
        "\n",
        "        # 2. RNN 的参数 (Wxh, Whh, bh)\n",
        "        self.Wxf = nn.Parameter(torch.randn(hidden_size, embed_dim))\n",
        "        self.Whf = nn.Parameter(torch.randn(hidden_size, hidden_size))\n",
        "\n",
        "        self.Wxi = nn.Parameter(torch.randn(hidden_size, embed_dim))\n",
        "        self.Whi = nn.Parameter(torch.randn(hidden_size, hidden_size))\n",
        "\n",
        "        self.Wxo = nn.Parameter(torch.randn(hidden_size, embed_dim))\n",
        "        self.Who = nn.Parameter(torch.randn(hidden_size, hidden_size))\n",
        "\n",
        "        self.Wxc = nn.Parameter(torch.randn(hidden_size, embed_dim))\n",
        "        self.Whc = nn.Parameter(torch.randn(hidden_size, hidden_size))\n",
        "\n",
        "        self.bf  = nn.Parameter(torch.zeros(hidden_size, 1))\n",
        "        self.bi  = nn.Parameter(torch.zeros(hidden_size, 1))\n",
        "        self.bo  = nn.Parameter(torch.zeros(hidden_size, 1))\n",
        "        self.bc  = nn.Parameter(torch.zeros(hidden_size, 1))\n",
        "\n",
        "        # 4. Dropout 层，用于隐藏状态到下一步时做 dropout\n",
        "        #   这里是一个简易的写法，也可以在 forward 里自己实现 dropout\n",
        "        self.dropout = nn.Dropout(p=dropout_prob)\n",
        "\n",
        "        # 5. 初始化：使用 xavier 对每个权重进行初始化\n",
        "        nn.init.xavier_uniform_(self.Wxf)\n",
        "        nn.init.xavier_uniform_(self.Whf)\n",
        "        nn.init.xavier_uniform_(self.Wxi)\n",
        "        nn.init.xavier_uniform_(self.Whi)\n",
        "        nn.init.xavier_uniform_(self.Wxo)\n",
        "        nn.init.xavier_uniform_(self.Who)\n",
        "        nn.init.xavier_uniform_(self.Wxc)\n",
        "        nn.init.xavier_uniform_(self.Whc)\n",
        "\n",
        "\n",
        "        self.fc = nn.Linear(hidden_size, output_size)\n",
        "\n",
        "    def forward(self, inputs):\n",
        "        \"\"\"\n",
        "        inputs shape: (batch_size, seq_len)\n",
        "        返回:\n",
        "          - logits: (batch_size, output_size) 只在最后时间步输出\n",
        "          - h: (batch_size, hidden_size) 最后时间步的隐藏状态\n",
        "        \"\"\"\n",
        "        device = inputs.device\n",
        "\n",
        "        # 1. embedding: (batch_size, seq_len, embed_dim)\n",
        "        embedded = self.embedding(inputs)\n",
        "\n",
        "        # 2. 初始化隐藏状态 h\n",
        "        #    (batch_size, hidden_size)\n",
        "        h = torch.zeros(inputs.size(0), self.hidden_size, device=device)\n",
        "        c = torch.zeros(inputs.size(0), self.hidden_size, device=device)\n",
        "\n",
        "        # 3. 逐时间步循环\n",
        "        #    embedded[:, t, :] --> (batch_size, embed_dim)\n",
        "        seq_len = inputs.size(1)\n",
        "        for t in range(seq_len):\n",
        "            x_t = embedded[:, t, :]  # (batch_size, embed_dim)\n",
        "\n",
        "            i_t = torch.sigmoid(\n",
        "                x_t @ self.Wxi.T +\n",
        "                h @ self.Whi.T +\n",
        "                self.bi.T\n",
        "            )\n",
        "\n",
        "            f_t = torch.sigmoid(\n",
        "                x_t @ self.Wxf.T +\n",
        "                h @ self.Whf.T +\n",
        "                self.bf.T\n",
        "            )\n",
        "\n",
        "            o_t = torch.sigmoid(\n",
        "                x_t @ self.Wxo.T +\n",
        "                h @ self.Who.T +\n",
        "                self.bo.T\n",
        "            )\n",
        "\n",
        "            # i_t & f_t & o_t (batch_size, hidden_size)\n",
        "\n",
        "            c_ = torch.tanh(\n",
        "                x_t @ self.Wxc.T + # batch_size, hidden_size\n",
        "                h @ self.Whc.T  +\n",
        "                self.bc.T\n",
        "            )\n",
        "\n",
        "            # batch_size, hidden_size\n",
        "\n",
        "            c = f_t * c + i_t * c_\n",
        "\n",
        "            h = o_t * torch.tanh(c)\n",
        "\n",
        "            # dropout\n",
        "            h = self.dropout(h)\n",
        "\n",
        "        # 4. 最后时刻的 h 映射到输出 logits\n",
        "        #    logits shape: (batch_size, output_size)\n",
        "        outputs = torch.sigmoid(self.fc(h))\n",
        "\n",
        "        return outputs, h"
      ],
      "metadata": {
        "id": "dvpVa7ehR_1X"
      },
      "execution_count": 22,
      "outputs": []
    },
    {
      "cell_type": "code",
      "source": [
        "model = SimpleLSTMOptimized(len(vocab), 128, 64, 2,)  # 定义的网络结构\n",
        "criterion = torch.nn.CrossEntropyLoss()  # 损失函数\n",
        "optimizer = torch.optim.Adam(model.parameters(), lr=0.001)  # 优化器\n",
        "device = torch.device(\"cuda\" if torch.cuda.is_available() else \"cpu\")  # 设置设备\n",
        "print(device)"
      ],
      "metadata": {
        "colab": {
          "base_uri": "https://localhost:8080/"
        },
        "id": "KXhZDZpfXnv-",
        "outputId": "2d8f789a-6cbc-4c9b-8c5f-5d39bfc6bc37"
      },
      "execution_count": 23,
      "outputs": [
        {
          "output_type": "stream",
          "name": "stdout",
          "text": [
            "cuda\n"
          ]
        }
      ]
    },
    {
      "cell_type": "code",
      "source": [
        "from tqdm import tqdm\n",
        "trained_model, metrics = train_model_new(\n",
        "    model=model,\n",
        "    dataloader=train_loader,\n",
        "    evalloader=test_loader,\n",
        "    criterion=criterion,\n",
        "    optimizer=optimizer,\n",
        "    device=device,\n",
        "    epochs=20\n",
        ")"
      ],
      "metadata": {
        "colab": {
          "base_uri": "https://localhost:8080/"
        },
        "id": "vnE6UWeLXphp",
        "outputId": "4e7d2ab6-f29e-407f-cf6b-e40309a72eae"
      },
      "execution_count": 24,
      "outputs": [
        {
          "output_type": "stream",
          "name": "stderr",
          "text": [
            "Epoch 1/20: 100%|██████████| 391/391 [01:20<00:00,  4.87it/s]\n"
          ]
        },
        {
          "output_type": "stream",
          "name": "stdout",
          "text": [
            "Epoch [1/20], Loss: 0.6877, AUC: 0.5627, Eval Loss: 0.7177, Eval AUC: 0.5685\n"
          ]
        },
        {
          "output_type": "stream",
          "name": "stderr",
          "text": [
            "Epoch 2/20: 100%|██████████| 391/391 [01:21<00:00,  4.80it/s]\n"
          ]
        },
        {
          "output_type": "stream",
          "name": "stdout",
          "text": [
            "Epoch [2/20], Loss: 0.6512, AUC: 0.6660, Eval Loss: 0.6242, Eval AUC: 0.7055\n"
          ]
        },
        {
          "output_type": "stream",
          "name": "stderr",
          "text": [
            "Epoch 3/20: 100%|██████████| 391/391 [01:21<00:00,  4.78it/s]\n"
          ]
        },
        {
          "output_type": "stream",
          "name": "stdout",
          "text": [
            "Epoch [3/20], Loss: 0.5859, AUC: 0.7545, Eval Loss: 0.5695, Eval AUC: 0.7775\n"
          ]
        },
        {
          "output_type": "stream",
          "name": "stderr",
          "text": [
            "Epoch 4/20: 100%|██████████| 391/391 [01:22<00:00,  4.77it/s]\n"
          ]
        },
        {
          "output_type": "stream",
          "name": "stdout",
          "text": [
            "Epoch [4/20], Loss: 0.5506, AUC: 0.7987, Eval Loss: 0.6018, Eval AUC: 0.7602\n"
          ]
        },
        {
          "output_type": "stream",
          "name": "stderr",
          "text": [
            "Epoch 5/20: 100%|██████████| 391/391 [01:22<00:00,  4.73it/s]\n"
          ]
        },
        {
          "output_type": "stream",
          "name": "stdout",
          "text": [
            "Epoch [5/20], Loss: 0.5237, AUC: 0.8236, Eval Loss: 0.5411, Eval AUC: 0.8148\n"
          ]
        },
        {
          "output_type": "stream",
          "name": "stderr",
          "text": [
            "Epoch 6/20: 100%|██████████| 391/391 [01:23<00:00,  4.71it/s]\n"
          ]
        },
        {
          "output_type": "stream",
          "name": "stdout",
          "text": [
            "Epoch [6/20], Loss: 0.5008, AUC: 0.8461, Eval Loss: 0.5338, Eval AUC: 0.8244\n"
          ]
        },
        {
          "output_type": "stream",
          "name": "stderr",
          "text": [
            "Epoch 7/20: 100%|██████████| 391/391 [01:22<00:00,  4.75it/s]\n"
          ]
        },
        {
          "output_type": "stream",
          "name": "stdout",
          "text": [
            "Epoch [7/20], Loss: 0.4880, AUC: 0.8588, Eval Loss: 0.5115, Eval AUC: 0.8427\n"
          ]
        },
        {
          "output_type": "stream",
          "name": "stderr",
          "text": [
            "Epoch 8/20: 100%|██████████| 391/391 [01:20<00:00,  4.83it/s]\n"
          ]
        },
        {
          "output_type": "stream",
          "name": "stdout",
          "text": [
            "Epoch [8/20], Loss: 0.4723, AUC: 0.8724, Eval Loss: 0.5095, Eval AUC: 0.8477\n"
          ]
        },
        {
          "output_type": "stream",
          "name": "stderr",
          "text": [
            "Epoch 9/20: 100%|██████████| 391/391 [01:23<00:00,  4.71it/s]\n"
          ]
        },
        {
          "output_type": "stream",
          "name": "stdout",
          "text": [
            "Epoch [9/20], Loss: 0.4620, AUC: 0.8773, Eval Loss: 0.5012, Eval AUC: 0.8541\n"
          ]
        },
        {
          "output_type": "stream",
          "name": "stderr",
          "text": [
            "Epoch 10/20: 100%|██████████| 391/391 [01:21<00:00,  4.79it/s]\n"
          ]
        },
        {
          "output_type": "stream",
          "name": "stdout",
          "text": [
            "Epoch [10/20], Loss: 0.4527, AUC: 0.8848, Eval Loss: 0.5021, Eval AUC: 0.8580\n"
          ]
        },
        {
          "output_type": "stream",
          "name": "stderr",
          "text": [
            "Epoch 11/20: 100%|██████████| 391/391 [01:21<00:00,  4.81it/s]\n"
          ]
        },
        {
          "output_type": "stream",
          "name": "stdout",
          "text": [
            "Epoch [11/20], Loss: 0.4489, AUC: 0.8867, Eval Loss: 0.5055, Eval AUC: 0.8563\n"
          ]
        },
        {
          "output_type": "stream",
          "name": "stderr",
          "text": [
            "Epoch 12/20: 100%|██████████| 391/391 [01:21<00:00,  4.82it/s]\n"
          ]
        },
        {
          "output_type": "stream",
          "name": "stdout",
          "text": [
            "Epoch [12/20], Loss: 0.4435, AUC: 0.8901, Eval Loss: 0.5001, Eval AUC: 0.8585\n"
          ]
        },
        {
          "output_type": "stream",
          "name": "stderr",
          "text": [
            "Epoch 13/20: 100%|██████████| 391/391 [01:21<00:00,  4.81it/s]\n"
          ]
        },
        {
          "output_type": "stream",
          "name": "stdout",
          "text": [
            "Epoch [13/20], Loss: 0.4375, AUC: 0.8943, Eval Loss: 0.5001, Eval AUC: 0.8564\n"
          ]
        },
        {
          "output_type": "stream",
          "name": "stderr",
          "text": [
            "Epoch 14/20: 100%|██████████| 391/391 [01:20<00:00,  4.84it/s]\n"
          ]
        },
        {
          "output_type": "stream",
          "name": "stdout",
          "text": [
            "Epoch [14/20], Loss: 0.4362, AUC: 0.8943, Eval Loss: 0.5050, Eval AUC: 0.8536\n"
          ]
        },
        {
          "output_type": "stream",
          "name": "stderr",
          "text": [
            "Epoch 15/20: 100%|██████████| 391/391 [01:21<00:00,  4.83it/s]\n"
          ]
        },
        {
          "output_type": "stream",
          "name": "stdout",
          "text": [
            "Epoch [15/20], Loss: 0.4315, AUC: 0.8953, Eval Loss: 0.5104, Eval AUC: 0.8534\n"
          ]
        },
        {
          "output_type": "stream",
          "name": "stderr",
          "text": [
            "Epoch 16/20: 100%|██████████| 391/391 [01:21<00:00,  4.82it/s]\n"
          ]
        },
        {
          "output_type": "stream",
          "name": "stdout",
          "text": [
            "Epoch [16/20], Loss: 0.4260, AUC: 0.8985, Eval Loss: 0.5038, Eval AUC: 0.8578\n"
          ]
        },
        {
          "output_type": "stream",
          "name": "stderr",
          "text": [
            "Epoch 17/20: 100%|██████████| 391/391 [01:20<00:00,  4.84it/s]\n"
          ]
        },
        {
          "output_type": "stream",
          "name": "stdout",
          "text": [
            "Epoch [17/20], Loss: 0.4201, AUC: 0.9027, Eval Loss: 0.5071, Eval AUC: 0.8529\n"
          ]
        },
        {
          "output_type": "stream",
          "name": "stderr",
          "text": [
            "Epoch 18/20: 100%|██████████| 391/391 [01:22<00:00,  4.74it/s]\n"
          ]
        },
        {
          "output_type": "stream",
          "name": "stdout",
          "text": [
            "Epoch [18/20], Loss: 0.4216, AUC: 0.9017, Eval Loss: 0.5063, Eval AUC: 0.8537\n"
          ]
        },
        {
          "output_type": "stream",
          "name": "stderr",
          "text": [
            "Epoch 19/20: 100%|██████████| 391/391 [01:23<00:00,  4.68it/s]\n"
          ]
        },
        {
          "output_type": "stream",
          "name": "stdout",
          "text": [
            "Epoch [19/20], Loss: 0.4174, AUC: 0.9032, Eval Loss: 0.4999, Eval AUC: 0.8580\n"
          ]
        },
        {
          "output_type": "stream",
          "name": "stderr",
          "text": [
            "Epoch 20/20: 100%|██████████| 391/391 [01:22<00:00,  4.77it/s]\n"
          ]
        },
        {
          "output_type": "stream",
          "name": "stdout",
          "text": [
            "Epoch [20/20], Loss: 0.4177, AUC: 0.9030, Eval Loss: 0.5065, Eval AUC: 0.8564\n"
          ]
        }
      ]
    },
    {
      "cell_type": "code",
      "source": [
        "import torch\n",
        "import torch.nn as nn\n",
        "import torch.nn.functional as F\n",
        "\n",
        "class SimpleGRUPkg(nn.Module):\n",
        "    def __init__(self, vocab_size, embed_dim, hidden_size, output_size, batch_size,\n",
        "                 dropout_prob=0.2):\n",
        "        super(SimpleGRUPkg, self).__init__()\n",
        "\n",
        "        self.embedding = nn.Embedding(num_embeddings=vocab_size,\n",
        "                                      embedding_dim=embed_dim,\n",
        "                                      padding_idx=0)\n",
        "\n",
        "        self.rnn = nn.GRU(batch_size, hidden_size, batch_first=True, dropout=dropout_prob)\n",
        "\n",
        "\n",
        "        self.fc = nn.Linear(hidden_size, output_size)\n",
        "\n",
        "    def forward(self, inputs):\n",
        "        \"\"\"\n",
        "        inputs shape: (batch_size, seq_len)\n",
        "        返回:\n",
        "          - logits: (batch_size, output_size) 只在最后时间步输出\n",
        "          - h: (batch_size, hidden_size) 最后时间步的隐藏状态\n",
        "        \"\"\"\n",
        "        # 0. inputs: (batch_size, seq_len)\n",
        "        device = inputs.device\n",
        "\n",
        "        # 1. embedding: (batch_size, seq_len, embed_dim)\n",
        "        inputs = self.embedding(inputs)\n",
        "\n",
        "        # 2. (batch_size, seq_len, hidden_size)\n",
        "        inputs, _ = self.rnn(inputs)\n",
        "\n",
        "        # 3. (batch_size, 1, hidden_size)\n",
        "        outputs = self.fc(inputs[:,-1,:])\n",
        "\n",
        "        return outputs"
      ],
      "metadata": {
        "id": "HuZmJNSWkdR0"
      },
      "execution_count": 25,
      "outputs": []
    },
    {
      "cell_type": "code",
      "source": [
        "\n",
        "model = SimpleGRUPkg(len(vocab), 128, 64, 2, batch_size=128)  # 定义的网络结构\n",
        "criterion = torch.nn.CrossEntropyLoss()  # 损失函数\n",
        "optimizer = torch.optim.Adam(model.parameters(), lr=0.001)  # 优化器\n",
        "device = torch.device(\"cuda\" if torch.cuda.is_available() else \"cpu\")  # 设置设备\n",
        "scheduler = torch.optim.lr_scheduler.StepLR(optimizer, step_size=5, gamma=0.5)\n",
        "print(device)\n"
      ],
      "metadata": {
        "colab": {
          "base_uri": "https://localhost:8080/"
        },
        "id": "AUhPQqcmXwDX",
        "outputId": "2fc5aa6b-e597-4be7-e6f1-8a5e6f0f518b"
      },
      "execution_count": 27,
      "outputs": [
        {
          "output_type": "stream",
          "name": "stdout",
          "text": [
            "cuda\n"
          ]
        },
        {
          "output_type": "stream",
          "name": "stderr",
          "text": [
            "/usr/local/lib/python3.11/dist-packages/torch/nn/modules/rnn.py:123: UserWarning: dropout option adds dropout after all but last recurrent layer, so non-zero dropout expects num_layers greater than 1, but got dropout=0.2 and num_layers=1\n",
            "  warnings.warn(\n"
          ]
        }
      ]
    },
    {
      "cell_type": "code",
      "source": [
        "trained_model, metrics = train_model_pkg(\n",
        "    model=model,\n",
        "    dataloader=train_loader,\n",
        "    evalloader=test_loader,\n",
        "    criterion=criterion,\n",
        "    optimizer=optimizer,\n",
        "    device=device,\n",
        "    epochs=30\n",
        ")"
      ],
      "metadata": {
        "colab": {
          "base_uri": "https://localhost:8080/"
        },
        "id": "r-rUxTB8kw9N",
        "outputId": "3d04aa9f-1a07-4101-9e20-0dd55bd151cc"
      },
      "execution_count": 28,
      "outputs": [
        {
          "output_type": "stream",
          "name": "stderr",
          "text": [
            "Epoch 1/30: 100%|██████████| 391/391 [00:05<00:00, 73.54it/s]\n"
          ]
        },
        {
          "output_type": "stream",
          "name": "stdout",
          "text": [
            "Epoch [1/30], Loss: 0.6875, AUC: 0.5650, Eval Loss: 0.6176, Eval AUC: 0.7178\n"
          ]
        },
        {
          "output_type": "stream",
          "name": "stderr",
          "text": [
            "Epoch 2/30: 100%|██████████| 391/391 [00:05<00:00, 73.85it/s]\n"
          ]
        },
        {
          "output_type": "stream",
          "name": "stdout",
          "text": [
            "Epoch [2/30], Loss: 0.5365, AUC: 0.8066, Eval Loss: 0.4746, Eval AUC: 0.8615\n"
          ]
        },
        {
          "output_type": "stream",
          "name": "stderr",
          "text": [
            "Epoch 3/30: 100%|██████████| 391/391 [00:05<00:00, 76.55it/s]\n"
          ]
        },
        {
          "output_type": "stream",
          "name": "stdout",
          "text": [
            "Epoch [3/30], Loss: 0.3954, AUC: 0.9026, Eval Loss: 0.3984, Eval AUC: 0.9044\n"
          ]
        },
        {
          "output_type": "stream",
          "name": "stderr",
          "text": [
            "Epoch 4/30: 100%|██████████| 391/391 [00:05<00:00, 75.39it/s]\n"
          ]
        },
        {
          "output_type": "stream",
          "name": "stdout",
          "text": [
            "Epoch [4/30], Loss: 0.3134, AUC: 0.9395, Eval Loss: 0.3844, Eval AUC: 0.9117\n"
          ]
        },
        {
          "output_type": "stream",
          "name": "stderr",
          "text": [
            "Epoch 5/30: 100%|██████████| 391/391 [00:05<00:00, 75.67it/s]\n"
          ]
        },
        {
          "output_type": "stream",
          "name": "stdout",
          "text": [
            "Epoch [5/30], Loss: 0.2578, AUC: 0.9591, Eval Loss: 0.4205, Eval AUC: 0.9124\n"
          ]
        },
        {
          "output_type": "stream",
          "name": "stderr",
          "text": [
            "Epoch 6/30: 100%|██████████| 391/391 [00:05<00:00, 77.48it/s]\n"
          ]
        },
        {
          "output_type": "stream",
          "name": "stdout",
          "text": [
            "Epoch [6/30], Loss: 0.2081, AUC: 0.9729, Eval Loss: 0.4305, Eval AUC: 0.9103\n"
          ]
        },
        {
          "output_type": "stream",
          "name": "stderr",
          "text": [
            "Epoch 7/30: 100%|██████████| 391/391 [00:05<00:00, 74.79it/s]\n"
          ]
        },
        {
          "output_type": "stream",
          "name": "stdout",
          "text": [
            "Epoch [7/30], Loss: 0.1559, AUC: 0.9841, Eval Loss: 0.4724, Eval AUC: 0.9036\n"
          ]
        },
        {
          "output_type": "stream",
          "name": "stderr",
          "text": [
            "Epoch 8/30: 100%|██████████| 391/391 [00:05<00:00, 75.49it/s]\n"
          ]
        },
        {
          "output_type": "stream",
          "name": "stdout",
          "text": [
            "Epoch [8/30], Loss: 0.1101, AUC: 0.9917, Eval Loss: 0.5747, Eval AUC: 0.8993\n"
          ]
        },
        {
          "output_type": "stream",
          "name": "stderr",
          "text": [
            "Epoch 9/30: 100%|██████████| 391/391 [00:05<00:00, 77.32it/s]\n"
          ]
        },
        {
          "output_type": "stream",
          "name": "stdout",
          "text": [
            "Epoch [9/30], Loss: 0.0753, AUC: 0.9955, Eval Loss: 0.7237, Eval AUC: 0.8945\n"
          ]
        },
        {
          "output_type": "stream",
          "name": "stderr",
          "text": [
            "Epoch 10/30: 100%|██████████| 391/391 [00:05<00:00, 78.18it/s]\n"
          ]
        },
        {
          "output_type": "stream",
          "name": "stdout",
          "text": [
            "Epoch [10/30], Loss: 0.0478, AUC: 0.9979, Eval Loss: 0.8090, Eval AUC: 0.8919\n"
          ]
        },
        {
          "output_type": "stream",
          "name": "stderr",
          "text": [
            "Epoch 11/30: 100%|██████████| 391/391 [00:05<00:00, 76.16it/s]\n"
          ]
        },
        {
          "output_type": "stream",
          "name": "stdout",
          "text": [
            "Epoch [11/30], Loss: 0.0346, AUC: 0.9988, Eval Loss: 0.8200, Eval AUC: 0.8862\n"
          ]
        },
        {
          "output_type": "stream",
          "name": "stderr",
          "text": [
            "Epoch 12/30: 100%|██████████| 391/391 [00:05<00:00, 75.97it/s]\n"
          ]
        },
        {
          "output_type": "stream",
          "name": "stdout",
          "text": [
            "Epoch [12/30], Loss: 0.0227, AUC: 0.9993, Eval Loss: 0.8893, Eval AUC: 0.8836\n"
          ]
        },
        {
          "output_type": "stream",
          "name": "stderr",
          "text": [
            "Epoch 13/30: 100%|██████████| 391/391 [00:05<00:00, 77.73it/s]\n"
          ]
        },
        {
          "output_type": "stream",
          "name": "stdout",
          "text": [
            "Epoch [13/30], Loss: 0.0191, AUC: 0.9995, Eval Loss: 0.9869, Eval AUC: 0.8816\n"
          ]
        },
        {
          "output_type": "stream",
          "name": "stderr",
          "text": [
            "Epoch 14/30: 100%|██████████| 391/391 [00:05<00:00, 77.81it/s]\n"
          ]
        },
        {
          "output_type": "stream",
          "name": "stdout",
          "text": [
            "Epoch [14/30], Loss: 0.0179, AUC: 0.9996, Eval Loss: 1.0307, Eval AUC: 0.8824\n"
          ]
        },
        {
          "output_type": "stream",
          "name": "stderr",
          "text": [
            "Epoch 15/30: 100%|██████████| 391/391 [00:05<00:00, 75.73it/s]\n"
          ]
        },
        {
          "output_type": "stream",
          "name": "stdout",
          "text": [
            "Epoch [15/30], Loss: 0.0172, AUC: 0.9996, Eval Loss: 1.0025, Eval AUC: 0.8797\n"
          ]
        },
        {
          "output_type": "stream",
          "name": "stderr",
          "text": [
            "Epoch 16/30: 100%|██████████| 391/391 [00:05<00:00, 76.16it/s]\n"
          ]
        },
        {
          "output_type": "stream",
          "name": "stdout",
          "text": [
            "Epoch [16/30], Loss: 0.0147, AUC: 0.9997, Eval Loss: 1.2409, Eval AUC: 0.8826\n"
          ]
        },
        {
          "output_type": "stream",
          "name": "stderr",
          "text": [
            "Epoch 17/30: 100%|██████████| 391/391 [00:05<00:00, 77.81it/s]\n"
          ]
        },
        {
          "output_type": "stream",
          "name": "stdout",
          "text": [
            "Epoch [17/30], Loss: 0.0168, AUC: 0.9997, Eval Loss: 1.2131, Eval AUC: 0.8790\n"
          ]
        },
        {
          "output_type": "stream",
          "name": "stderr",
          "text": [
            "Epoch 18/30: 100%|██████████| 391/391 [00:05<00:00, 77.28it/s]\n"
          ]
        },
        {
          "output_type": "stream",
          "name": "stdout",
          "text": [
            "Epoch [18/30], Loss: 0.0158, AUC: 0.9997, Eval Loss: 1.3235, Eval AUC: 0.8796\n"
          ]
        },
        {
          "output_type": "stream",
          "name": "stderr",
          "text": [
            "Epoch 19/30: 100%|██████████| 391/391 [00:05<00:00, 75.17it/s]\n"
          ]
        },
        {
          "output_type": "stream",
          "name": "stdout",
          "text": [
            "Epoch [19/30], Loss: 0.0221, AUC: 0.9994, Eval Loss: 1.1857, Eval AUC: 0.8798\n"
          ]
        },
        {
          "output_type": "stream",
          "name": "stderr",
          "text": [
            "Epoch 20/30: 100%|██████████| 391/391 [00:05<00:00, 76.70it/s]\n"
          ]
        },
        {
          "output_type": "stream",
          "name": "stdout",
          "text": [
            "Epoch [20/30], Loss: 0.0138, AUC: 0.9998, Eval Loss: 1.1992, Eval AUC: 0.8809\n"
          ]
        },
        {
          "output_type": "stream",
          "name": "stderr",
          "text": [
            "Epoch 21/30: 100%|██████████| 391/391 [00:05<00:00, 78.00it/s]\n"
          ]
        },
        {
          "output_type": "stream",
          "name": "stdout",
          "text": [
            "Epoch [21/30], Loss: 0.0090, AUC: 0.9999, Eval Loss: 1.3801, Eval AUC: 0.8819\n"
          ]
        },
        {
          "output_type": "stream",
          "name": "stderr",
          "text": [
            "Epoch 22/30: 100%|██████████| 391/391 [00:05<00:00, 77.45it/s]\n"
          ]
        },
        {
          "output_type": "stream",
          "name": "stdout",
          "text": [
            "Epoch [22/30], Loss: 0.0113, AUC: 0.9998, Eval Loss: 1.4190, Eval AUC: 0.8836\n"
          ]
        },
        {
          "output_type": "stream",
          "name": "stderr",
          "text": [
            "Epoch 23/30: 100%|██████████| 391/391 [00:05<00:00, 72.01it/s]\n"
          ]
        },
        {
          "output_type": "stream",
          "name": "stdout",
          "text": [
            "Epoch [23/30], Loss: 0.0063, AUC: 0.9999, Eval Loss: 1.3861, Eval AUC: 0.8833\n"
          ]
        },
        {
          "output_type": "stream",
          "name": "stderr",
          "text": [
            "Epoch 24/30: 100%|██████████| 391/391 [00:05<00:00, 77.71it/s]\n"
          ]
        },
        {
          "output_type": "stream",
          "name": "stdout",
          "text": [
            "Epoch [24/30], Loss: 0.0104, AUC: 0.9999, Eval Loss: 1.3959, Eval AUC: 0.8798\n"
          ]
        },
        {
          "output_type": "stream",
          "name": "stderr",
          "text": [
            "Epoch 25/30: 100%|██████████| 391/391 [00:04<00:00, 78.46it/s]\n"
          ]
        },
        {
          "output_type": "stream",
          "name": "stdout",
          "text": [
            "Epoch [25/30], Loss: 0.0160, AUC: 0.9997, Eval Loss: 1.4196, Eval AUC: 0.8761\n"
          ]
        },
        {
          "output_type": "stream",
          "name": "stderr",
          "text": [
            "Epoch 26/30: 100%|██████████| 391/391 [00:05<00:00, 76.18it/s]\n"
          ]
        },
        {
          "output_type": "stream",
          "name": "stdout",
          "text": [
            "Epoch [26/30], Loss: 0.0125, AUC: 0.9998, Eval Loss: 1.4001, Eval AUC: 0.8768\n"
          ]
        },
        {
          "output_type": "stream",
          "name": "stderr",
          "text": [
            "Epoch 27/30: 100%|██████████| 391/391 [00:05<00:00, 75.31it/s]\n"
          ]
        },
        {
          "output_type": "stream",
          "name": "stdout",
          "text": [
            "Epoch [27/30], Loss: 0.0152, AUC: 0.9997, Eval Loss: 1.4876, Eval AUC: 0.8799\n"
          ]
        },
        {
          "output_type": "stream",
          "name": "stderr",
          "text": [
            "Epoch 28/30: 100%|██████████| 391/391 [00:05<00:00, 77.32it/s]\n"
          ]
        },
        {
          "output_type": "stream",
          "name": "stdout",
          "text": [
            "Epoch [28/30], Loss: 0.0146, AUC: 0.9997, Eval Loss: 1.4655, Eval AUC: 0.8808\n"
          ]
        },
        {
          "output_type": "stream",
          "name": "stderr",
          "text": [
            "Epoch 29/30: 100%|██████████| 391/391 [00:04<00:00, 78.90it/s]\n"
          ]
        },
        {
          "output_type": "stream",
          "name": "stdout",
          "text": [
            "Epoch [29/30], Loss: 0.0104, AUC: 0.9999, Eval Loss: 1.5716, Eval AUC: 0.8824\n"
          ]
        },
        {
          "output_type": "stream",
          "name": "stderr",
          "text": [
            "Epoch 30/30: 100%|██████████| 391/391 [00:05<00:00, 76.51it/s]\n"
          ]
        },
        {
          "output_type": "stream",
          "name": "stdout",
          "text": [
            "Epoch [30/30], Loss: 0.0076, AUC: 0.9999, Eval Loss: 1.4618, Eval AUC: 0.8776\n"
          ]
        }
      ]
    },
    {
      "cell_type": "code",
      "source": [
        "import torch\n",
        "import torch.nn as nn\n",
        "import torch.nn.functional as F\n",
        "\n",
        "class SimpleLSTMPkg(nn.Module):\n",
        "    def __init__(self, vocab_size, embed_dim, hidden_size, output_size, batch_size,\n",
        "                 dropout_prob=0.2):\n",
        "        super(SimpleLSTMPkg, self).__init__()\n",
        "\n",
        "        self.embedding = nn.Embedding(num_embeddings=vocab_size,\n",
        "                                      embedding_dim=embed_dim,\n",
        "                                      padding_idx=0)\n",
        "\n",
        "        self.rnn = nn.LSTM(batch_size, hidden_size, batch_first=True, dropout=dropout_prob)\n",
        "\n",
        "\n",
        "        self.fc = nn.Linear(hidden_size, output_size)\n",
        "\n",
        "    def forward(self, inputs):\n",
        "        \"\"\"\n",
        "        inputs shape: (batch_size, seq_len)\n",
        "        返回:\n",
        "          - logits: (batch_size, output_size) 只在最后时间步输出\n",
        "          - h: (batch_size, hidden_size) 最后时间步的隐藏状态\n",
        "        \"\"\"\n",
        "        # 0. inputs: (batch_size, seq_len)\n",
        "        device = inputs.device\n",
        "\n",
        "        # 1. embedding: (batch_size, seq_len, embed_dim)\n",
        "        inputs = self.embedding(inputs)\n",
        "\n",
        "        # 2. (batch_size, seq_len, hidden_size)\n",
        "        inputs, _ = self.rnn(inputs)\n",
        "\n",
        "        # 3. (batch_size, 1, hidden_size)\n",
        "        outputs = self.fc(inputs[:,-1,:])\n",
        "\n",
        "        return outputs"
      ],
      "metadata": {
        "id": "Vuz0EPuzk0i6"
      },
      "execution_count": 29,
      "outputs": []
    },
    {
      "cell_type": "code",
      "source": [
        "\n",
        "model = SimpleLSTMPkg(len(vocab), 128, 64, 2, batch_size=128)  # 定义的网络结构\n",
        "criterion = torch.nn.CrossEntropyLoss()  # 损失函数\n",
        "optimizer = torch.optim.Adam(model.parameters(), lr=0.001)  # 优化器\n",
        "device = torch.device(\"cuda\" if torch.cuda.is_available() else \"cpu\")  # 设置设备\n",
        "scheduler = torch.optim.lr_scheduler.StepLR(optimizer, step_size=5, gamma=0.5)\n",
        "print(device)"
      ],
      "metadata": {
        "colab": {
          "base_uri": "https://localhost:8080/"
        },
        "id": "IlSjChIOlW_H",
        "outputId": "d743b411-9f9d-42a4-dbcf-aac5f0f9fec0"
      },
      "execution_count": 30,
      "outputs": [
        {
          "output_type": "stream",
          "name": "stdout",
          "text": [
            "cuda\n"
          ]
        },
        {
          "output_type": "stream",
          "name": "stderr",
          "text": [
            "/usr/local/lib/python3.11/dist-packages/torch/nn/modules/rnn.py:123: UserWarning: dropout option adds dropout after all but last recurrent layer, so non-zero dropout expects num_layers greater than 1, but got dropout=0.2 and num_layers=1\n",
            "  warnings.warn(\n"
          ]
        }
      ]
    },
    {
      "cell_type": "code",
      "source": [
        "trained_model, metrics = train_model_pkg(\n",
        "    model=model,\n",
        "    dataloader=train_loader,\n",
        "    evalloader=test_loader,\n",
        "    criterion=criterion,\n",
        "    optimizer=optimizer,\n",
        "    device=device,\n",
        "    epochs=30\n",
        ")"
      ],
      "metadata": {
        "colab": {
          "base_uri": "https://localhost:8080/"
        },
        "id": "bgdRlB9LlbHV",
        "outputId": "1178d48d-b96a-4edd-81db-664b28f98b9c"
      },
      "execution_count": 31,
      "outputs": [
        {
          "output_type": "stream",
          "name": "stderr",
          "text": [
            "Epoch 1/30: 100%|██████████| 391/391 [00:05<00:00, 76.51it/s]\n"
          ]
        },
        {
          "output_type": "stream",
          "name": "stdout",
          "text": [
            "Epoch [1/30], Loss: 0.6810, AUC: 0.5897, Eval Loss: 0.6453, Eval AUC: 0.6737\n"
          ]
        },
        {
          "output_type": "stream",
          "name": "stderr",
          "text": [
            "Epoch 2/30: 100%|██████████| 391/391 [00:05<00:00, 77.48it/s]\n"
          ]
        },
        {
          "output_type": "stream",
          "name": "stdout",
          "text": [
            "Epoch [2/30], Loss: 0.6263, AUC: 0.7047, Eval Loss: 0.6445, Eval AUC: 0.6844\n"
          ]
        },
        {
          "output_type": "stream",
          "name": "stderr",
          "text": [
            "Epoch 3/30: 100%|██████████| 391/391 [00:05<00:00, 74.72it/s]\n"
          ]
        },
        {
          "output_type": "stream",
          "name": "stdout",
          "text": [
            "Epoch [3/30], Loss: 0.5622, AUC: 0.7799, Eval Loss: 0.5492, Eval AUC: 0.7956\n"
          ]
        },
        {
          "output_type": "stream",
          "name": "stderr",
          "text": [
            "Epoch 4/30: 100%|██████████| 391/391 [00:05<00:00, 74.58it/s]\n"
          ]
        },
        {
          "output_type": "stream",
          "name": "stdout",
          "text": [
            "Epoch [4/30], Loss: 0.4808, AUC: 0.8489, Eval Loss: 0.4754, Eval AUC: 0.8565\n"
          ]
        },
        {
          "output_type": "stream",
          "name": "stderr",
          "text": [
            "Epoch 5/30: 100%|██████████| 391/391 [00:05<00:00, 76.47it/s]\n"
          ]
        },
        {
          "output_type": "stream",
          "name": "stdout",
          "text": [
            "Epoch [5/30], Loss: 0.4087, AUC: 0.8937, Eval Loss: 0.4636, Eval AUC: 0.8717\n"
          ]
        },
        {
          "output_type": "stream",
          "name": "stderr",
          "text": [
            "Epoch 6/30: 100%|██████████| 391/391 [00:05<00:00, 76.87it/s]\n"
          ]
        },
        {
          "output_type": "stream",
          "name": "stdout",
          "text": [
            "Epoch [6/30], Loss: 0.3458, AUC: 0.9251, Eval Loss: 0.4462, Eval AUC: 0.8780\n"
          ]
        },
        {
          "output_type": "stream",
          "name": "stderr",
          "text": [
            "Epoch 7/30: 100%|██████████| 391/391 [00:05<00:00, 73.97it/s]\n"
          ]
        },
        {
          "output_type": "stream",
          "name": "stdout",
          "text": [
            "Epoch [7/30], Loss: 0.2960, AUC: 0.9451, Eval Loss: 0.4675, Eval AUC: 0.8884\n"
          ]
        },
        {
          "output_type": "stream",
          "name": "stderr",
          "text": [
            "Epoch 8/30: 100%|██████████| 391/391 [00:05<00:00, 74.36it/s]\n"
          ]
        },
        {
          "output_type": "stream",
          "name": "stdout",
          "text": [
            "Epoch [8/30], Loss: 0.2525, AUC: 0.9602, Eval Loss: 0.4811, Eval AUC: 0.8844\n"
          ]
        },
        {
          "output_type": "stream",
          "name": "stderr",
          "text": [
            "Epoch 9/30: 100%|██████████| 391/391 [00:05<00:00, 76.64it/s]\n"
          ]
        },
        {
          "output_type": "stream",
          "name": "stdout",
          "text": [
            "Epoch [9/30], Loss: 0.2155, AUC: 0.9705, Eval Loss: 0.5588, Eval AUC: 0.8777\n"
          ]
        },
        {
          "output_type": "stream",
          "name": "stderr",
          "text": [
            "Epoch 10/30: 100%|██████████| 391/391 [00:05<00:00, 76.92it/s]\n"
          ]
        },
        {
          "output_type": "stream",
          "name": "stdout",
          "text": [
            "Epoch [10/30], Loss: 0.1807, AUC: 0.9789, Eval Loss: 0.5059, Eval AUC: 0.8800\n"
          ]
        },
        {
          "output_type": "stream",
          "name": "stderr",
          "text": [
            "Epoch 11/30: 100%|██████████| 391/391 [00:05<00:00, 73.52it/s]\n"
          ]
        },
        {
          "output_type": "stream",
          "name": "stdout",
          "text": [
            "Epoch [11/30], Loss: 0.1464, AUC: 0.9861, Eval Loss: 0.5809, Eval AUC: 0.8817\n"
          ]
        },
        {
          "output_type": "stream",
          "name": "stderr",
          "text": [
            "Epoch 12/30: 100%|██████████| 391/391 [00:05<00:00, 74.45it/s]\n"
          ]
        },
        {
          "output_type": "stream",
          "name": "stdout",
          "text": [
            "Epoch [12/30], Loss: 0.1224, AUC: 0.9898, Eval Loss: 0.5915, Eval AUC: 0.8717\n"
          ]
        },
        {
          "output_type": "stream",
          "name": "stderr",
          "text": [
            "Epoch 13/30: 100%|██████████| 391/391 [00:05<00:00, 77.04it/s]\n"
          ]
        },
        {
          "output_type": "stream",
          "name": "stdout",
          "text": [
            "Epoch [13/30], Loss: 0.1004, AUC: 0.9930, Eval Loss: 0.7057, Eval AUC: 0.8783\n"
          ]
        },
        {
          "output_type": "stream",
          "name": "stderr",
          "text": [
            "Epoch 14/30: 100%|██████████| 391/391 [00:05<00:00, 77.03it/s]\n"
          ]
        },
        {
          "output_type": "stream",
          "name": "stdout",
          "text": [
            "Epoch [14/30], Loss: 0.0807, AUC: 0.9952, Eval Loss: 0.6927, Eval AUC: 0.8666\n"
          ]
        },
        {
          "output_type": "stream",
          "name": "stderr",
          "text": [
            "Epoch 15/30: 100%|██████████| 391/391 [00:05<00:00, 74.21it/s]\n"
          ]
        },
        {
          "output_type": "stream",
          "name": "stdout",
          "text": [
            "Epoch [15/30], Loss: 0.0660, AUC: 0.9967, Eval Loss: 0.8089, Eval AUC: 0.8697\n"
          ]
        },
        {
          "output_type": "stream",
          "name": "stderr",
          "text": [
            "Epoch 16/30: 100%|██████████| 391/391 [00:05<00:00, 75.00it/s]\n"
          ]
        },
        {
          "output_type": "stream",
          "name": "stdout",
          "text": [
            "Epoch [16/30], Loss: 0.0569, AUC: 0.9974, Eval Loss: 0.8436, Eval AUC: 0.8640\n"
          ]
        },
        {
          "output_type": "stream",
          "name": "stderr",
          "text": [
            "Epoch 17/30: 100%|██████████| 391/391 [00:05<00:00, 77.09it/s]\n"
          ]
        },
        {
          "output_type": "stream",
          "name": "stdout",
          "text": [
            "Epoch [17/30], Loss: 0.0469, AUC: 0.9979, Eval Loss: 0.8609, Eval AUC: 0.8642\n"
          ]
        },
        {
          "output_type": "stream",
          "name": "stderr",
          "text": [
            "Epoch 18/30: 100%|██████████| 391/391 [00:05<00:00, 76.39it/s]\n"
          ]
        },
        {
          "output_type": "stream",
          "name": "stdout",
          "text": [
            "Epoch [18/30], Loss: 0.0400, AUC: 0.9982, Eval Loss: 0.9032, Eval AUC: 0.8612\n"
          ]
        },
        {
          "output_type": "stream",
          "name": "stderr",
          "text": [
            "Epoch 19/30: 100%|██████████| 391/391 [00:05<00:00, 73.27it/s]\n"
          ]
        },
        {
          "output_type": "stream",
          "name": "stdout",
          "text": [
            "Epoch [19/30], Loss: 0.0366, AUC: 0.9984, Eval Loss: 0.9132, Eval AUC: 0.8597\n"
          ]
        },
        {
          "output_type": "stream",
          "name": "stderr",
          "text": [
            "Epoch 20/30: 100%|██████████| 391/391 [00:05<00:00, 73.95it/s]\n"
          ]
        },
        {
          "output_type": "stream",
          "name": "stdout",
          "text": [
            "Epoch [20/30], Loss: 0.0368, AUC: 0.9985, Eval Loss: 0.9928, Eval AUC: 0.8609\n"
          ]
        },
        {
          "output_type": "stream",
          "name": "stderr",
          "text": [
            "Epoch 21/30: 100%|██████████| 391/391 [00:05<00:00, 76.97it/s]\n"
          ]
        },
        {
          "output_type": "stream",
          "name": "stdout",
          "text": [
            "Epoch [21/30], Loss: 0.0304, AUC: 0.9988, Eval Loss: 1.0745, Eval AUC: 0.8672\n"
          ]
        },
        {
          "output_type": "stream",
          "name": "stderr",
          "text": [
            "Epoch 22/30: 100%|██████████| 391/391 [00:05<00:00, 77.08it/s]\n"
          ]
        },
        {
          "output_type": "stream",
          "name": "stdout",
          "text": [
            "Epoch [22/30], Loss: 0.0267, AUC: 0.9989, Eval Loss: 1.0719, Eval AUC: 0.8594\n"
          ]
        },
        {
          "output_type": "stream",
          "name": "stderr",
          "text": [
            "Epoch 23/30: 100%|██████████| 391/391 [00:05<00:00, 73.86it/s]\n"
          ]
        },
        {
          "output_type": "stream",
          "name": "stdout",
          "text": [
            "Epoch [23/30], Loss: 0.0335, AUC: 0.9985, Eval Loss: 1.0927, Eval AUC: 0.8618\n"
          ]
        },
        {
          "output_type": "stream",
          "name": "stderr",
          "text": [
            "Epoch 24/30: 100%|██████████| 391/391 [00:05<00:00, 75.65it/s]\n"
          ]
        },
        {
          "output_type": "stream",
          "name": "stdout",
          "text": [
            "Epoch [24/30], Loss: 0.0220, AUC: 0.9992, Eval Loss: 1.1214, Eval AUC: 0.8575\n"
          ]
        },
        {
          "output_type": "stream",
          "name": "stderr",
          "text": [
            "Epoch 25/30: 100%|██████████| 391/391 [00:05<00:00, 76.97it/s]\n"
          ]
        },
        {
          "output_type": "stream",
          "name": "stdout",
          "text": [
            "Epoch [25/30], Loss: 0.0207, AUC: 0.9992, Eval Loss: 1.1310, Eval AUC: 0.8631\n"
          ]
        },
        {
          "output_type": "stream",
          "name": "stderr",
          "text": [
            "Epoch 26/30: 100%|██████████| 391/391 [00:05<00:00, 76.27it/s]\n"
          ]
        },
        {
          "output_type": "stream",
          "name": "stdout",
          "text": [
            "Epoch [26/30], Loss: 0.0219, AUC: 0.9991, Eval Loss: 1.1123, Eval AUC: 0.8548\n"
          ]
        },
        {
          "output_type": "stream",
          "name": "stderr",
          "text": [
            "Epoch 27/30: 100%|██████████| 391/391 [00:05<00:00, 73.46it/s]\n"
          ]
        },
        {
          "output_type": "stream",
          "name": "stdout",
          "text": [
            "Epoch [27/30], Loss: 0.0190, AUC: 0.9993, Eval Loss: 1.1709, Eval AUC: 0.8620\n"
          ]
        },
        {
          "output_type": "stream",
          "name": "stderr",
          "text": [
            "Epoch 28/30: 100%|██████████| 391/391 [00:05<00:00, 75.23it/s]\n"
          ]
        },
        {
          "output_type": "stream",
          "name": "stdout",
          "text": [
            "Epoch [28/30], Loss: 0.0209, AUC: 0.9991, Eval Loss: 1.1700, Eval AUC: 0.8576\n"
          ]
        },
        {
          "output_type": "stream",
          "name": "stderr",
          "text": [
            "Epoch 29/30: 100%|██████████| 391/391 [00:05<00:00, 76.70it/s]\n"
          ]
        },
        {
          "output_type": "stream",
          "name": "stdout",
          "text": [
            "Epoch [29/30], Loss: 0.0284, AUC: 0.9987, Eval Loss: 1.1710, Eval AUC: 0.8609\n"
          ]
        },
        {
          "output_type": "stream",
          "name": "stderr",
          "text": [
            "Epoch 30/30: 100%|██████████| 391/391 [00:05<00:00, 76.80it/s]\n"
          ]
        },
        {
          "output_type": "stream",
          "name": "stdout",
          "text": [
            "Epoch [30/30], Loss: 0.0210, AUC: 0.9992, Eval Loss: 1.1455, Eval AUC: 0.8559\n"
          ]
        }
      ]
    },
    {
      "cell_type": "code",
      "source": [],
      "metadata": {
        "id": "ac8_8yMVl_Km"
      },
      "execution_count": null,
      "outputs": []
    }
  ]
}